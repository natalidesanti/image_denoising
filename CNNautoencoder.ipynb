{
 "cells": [
  {
   "cell_type": "markdown",
   "metadata": {
    "id": "7qRouQU6CBYp"
   },
   "source": [
    "# CNN Autoencoder\n",
    "\n",
    "In this notebook we will see an **image denoising** technique produced by a **CNN autoencoder**.\n",
    "\n",
    ", using an _autoencoder_, inspired into Francois Chollet [tutorial](https://blog.keras.io/building-autoencoders-in-keras.html)."
   ]
  },
  {
   "cell_type": "markdown",
   "metadata": {},
   "source": [
    "## 0) Summary\n",
    "\n",
    "* Image denoising using CNN autoencoders\n",
    "* Libraries\n",
    "* Data\n",
    "* Building the Autoencoder\n",
    "* Training the model\n",
    "* Testing the model"
   ]
  },
  {
   "cell_type": "markdown",
   "metadata": {},
   "source": [
    "## 1) Image denoising using autoencoders\n",
    "\n",
    "**Autoencoders** are based on **Convolutional Neural Networks** (**CNNs** or **convnets**). \n",
    "\n",
    "`Autoencoding` is a data compression algorithm where we have the **compression** and the **decompression** functions that are: \n",
    "\n",
    "_data-specific_, _lossy_, and _learned automatically from examples_.\n",
    "\n",
    "That is the reason why that, differently from the _traditional methods_ we have seen before, this new category of _image denoising methods_\n",
    "are purely **data-driven**, what means there is no need to phocus on a specific kind of noise.\n",
    "\n",
    "A **convnet** is a __deep Learning algorithm__ which takes an _input image_, assign _importance_ (learnable weight, \n",
    "biases and retains spatial relationships in the data into each one of theirs layers) to various aspects/parts in the \n",
    "image and is able to differentiate/reconstruct the same.\n",
    "\n",
    "It is important to notice that the **convolutional operations** are networks specifically designed to handle _matrix data_, \n",
    "more specifically **regular data** (due to their _structured_ representation as two-dimensional grids of pixels with _fixed positions_ and _homogeneous channels_). \n",
    "Images are a prime example of such data, represented as matrices of pixels, with dimensions for height, width, and color channel \n",
    "(typically, RGB images have three color channels corresponding to red, blue, and green). \n",
    "This feature has made CNNs immensely popular in computer vision applications [1, 2, 3, 4]."
   ]
  },
  {
   "cell_type": "markdown",
   "metadata": {},
   "source": [
    "The general idea behind this kind of code can be visualized here:\n",
    "\n",
    "![General autoencoder](https://www.pyimagesearch.com/wp-content/uploads/2020/02/keras_denoising_autoencoder_overview.png)\n",
    "###### Figure: Example of a general autoencoder"
   ]
  },
  {
   "cell_type": "markdown",
   "metadata": {},
   "source": [
    "Then, the **autoencoder** compreehends an _encoder_ and a _decoder_. \n",
    "\n",
    "The **encoder** does the _encoding process_, i.e., transforms the image into a _compressed representation_ at the same time that starts the noisy reduction. \n",
    "\n",
    "Then, the _compressed representation_ goes to **decoder** that performs the _decoder process_, restoring the image to its true and recognizable shape. \n",
    "\n",
    "The encoder and decoder are usually chosen as _parametric function_, here represented by **convolutional networks**, and the _parameters_ of the encoding/decoding functions are optimized to minimize the **loss function**, which is a measure of the difference between the _denoised image_ and the _true_ one.\n",
    "\n",
    "At the end of the process, we remove almost all noise in the image."
   ]
  },
  {
   "cell_type": "markdown",
   "metadata": {
    "id": "PlefLaHBDM-d"
   },
   "source": [
    "## 2) Libraries\n",
    "\n",
    "Once again, the libraries are subject to your installation (see notebook of image denoising).\n",
    "\n",
    "Here, we will implement the **CNNautoencoder** using `keras`:"
   ]
  },
  {
   "cell_type": "code",
   "execution_count": 1,
   "metadata": {
    "id": "qck3CaT4RjqG"
   },
   "outputs": [],
   "source": [
    "try:\n",
    "    import keras\n",
    "    from keras import layers\n",
    "    from keras.datasets import mnist\n",
    "    import numpy as np\n",
    "    import matplotlib.pyplot as plt\n",
    "except:\n",
    "    from tensorflow import keras\n",
    "    from tensorflow.keras import layers\n",
    "    from tensorflow.keras.datasets import mnist\n",
    "    import numpy as np\n",
    "    import matplotlib.pyplot as plt"
   ]
  },
  {
   "cell_type": "markdown",
   "metadata": {
    "id": "8zuLUyPPDYbQ"
   },
   "source": [
    "## 3) Data\n",
    "\n",
    "As detailed in the first notebook, we are using as our data the [MNIST](https://keras.io/api/datasets/mnist/) dataset."
   ]
  },
  {
   "cell_type": "markdown",
   "metadata": {
    "id": "Es7vRf4TEGxT"
   },
   "source": [
    "### Importing data"
   ]
  },
  {
   "cell_type": "code",
   "execution_count": 2,
   "metadata": {
    "id": "nEuuZgQxRpjN"
   },
   "outputs": [],
   "source": [
    "(x_train, _), (x_test, _) = mnist.load_data()"
   ]
  },
  {
   "cell_type": "code",
   "execution_count": 3,
   "metadata": {
    "colab": {
     "base_uri": "https://localhost:8080/",
     "height": 34
    },
    "id": "u_f1ANSIwvWQ",
    "outputId": "215724ee-4056-482d-c392-f4d21e5a3a92"
   },
   "outputs": [
    {
     "data": {
      "text/plain": [
       "((60000, 28, 28), (10000, 28, 28))"
      ]
     },
     "execution_count": 3,
     "metadata": {},
     "output_type": "execute_result"
    }
   ],
   "source": [
    "x_train.shape, x_test.shape"
   ]
  },
  {
   "cell_type": "code",
   "execution_count": 4,
   "metadata": {
    "id": "lm5aObAyJ9KC"
   },
   "outputs": [],
   "source": [
    "dimension = x_train.shape[1]"
   ]
  },
  {
   "cell_type": "markdown",
   "metadata": {
    "id": "7iwNnFCcF0Ii"
   },
   "source": [
    "### Pre-processing data"
   ]
  },
  {
   "cell_type": "code",
   "execution_count": 5,
   "metadata": {
    "id": "98_nnVm9wzLO"
   },
   "outputs": [],
   "source": [
    "num_data = 1000\n",
    "frac_train = 0.7\n",
    "frac_test = 0.3\n",
    "x_train = x_train[0:int(frac_train*num_data)]\n",
    "x_test = x_test[0:int(frac_test*num_data)]"
   ]
  },
  {
   "cell_type": "markdown",
   "metadata": {
    "id": "u40Mvyi8GKwb"
   },
   "source": [
    "We are going to normalize the images between 0 and 1 and to reshape them."
   ]
  },
  {
   "cell_type": "code",
   "execution_count": 6,
   "metadata": {
    "id": "CU7dOwLuRtqZ"
   },
   "outputs": [],
   "source": [
    "norm_factor = 255.\n",
    "x_train = x_train.astype('float32')/norm_factor\n",
    "x_test = x_test.astype('float32')/norm_factor\n",
    "x_train = np.reshape(x_train, (len(x_train), dimension, dimension, 1))\n",
    "x_test = np.reshape(x_test, (len(x_test), dimension, dimension, 1))"
   ]
  },
  {
   "cell_type": "markdown",
   "metadata": {
    "id": "bcqjoWCPHGcf"
   },
   "source": [
    "Here, we need to noisy the images, then, we apply a Gaussian noisy matrix and clip the images between 0 and 1."
   ]
  },
  {
   "cell_type": "code",
   "execution_count": 7,
   "metadata": {
    "id": "Mvs20GYpR_2D"
   },
   "outputs": [],
   "source": [
    "noise_factor = 0.5\n",
    "x_train_noisy = x_train + noise_factor * np.random.normal(loc = 0.0, scale = 1.0, size = x_train.shape) \n",
    "x_test_noisy = x_test + noise_factor * np.random.normal(loc = 0.0, scale = 1.0, size = x_test.shape) \n",
    "\n",
    "x_train_noisy = np.clip(x_train_noisy, 0., 1.)\n",
    "x_test_noisy = np.clip(x_test_noisy, 0., 1.)"
   ]
  },
  {
   "cell_type": "markdown",
   "metadata": {
    "id": "zglXXB4WJtPf"
   },
   "source": [
    "Visualizing some noise images images."
   ]
  },
  {
   "cell_type": "code",
   "execution_count": 8,
   "metadata": {
    "colab": {
     "base_uri": "https://localhost:8080/",
     "height": 539
    },
    "id": "9HO1aCFnSIe6",
    "outputId": "e4f78587-6317-4d33-8f84-27a3a3ef01a1"
   },
   "outputs": [
    {
     "data": {
      "image/png": "[encoded data removed]",
      "text/plain": [
       "<Figure size 500x500 with 2 Axes>"
      ]
     },
     "metadata": {},
     "output_type": "display_data"
    },
    {
     "data": {
      "image/png": "[encoded data removed]",
      "text/plain": [
       "<Figure size 500x500 with 2 Axes>"
      ]
     },
     "metadata": {},
     "output_type": "display_data"
    },
    {
     "data": {
      "image/png": "[encoded data removed]",
      "text/plain": [
       "<Figure size 500x500 with 2 Axes>"
      ]
     },
     "metadata": {},
     "output_type": "display_data"
    }
   ],
   "source": [
    "n = 3\n",
    "for i in range(n):\n",
    "    fig, axes = plt.subplots(1, 2)\n",
    "    fig.set_size_inches(5, 5)\n",
    "    axes[0].set_title('True image')\n",
    "    im0 = axes[0].imshow(x_test[i].reshape(dimension, dimension), cmap = 'Reds')\n",
    "    axes[1].set_title('Noisy image')\n",
    "    im1 = axes[1].imshow(x_test_noisy[i].reshape(dimension, dimension), cmap = 'Reds')"
   ]
  },
  {
   "cell_type": "markdown",
   "metadata": {
    "id": "iRDLL0fAKQgr"
   },
   "source": [
    "## 4) Building the Autoencoder"
   ]
  },
  {
   "cell_type": "markdown",
   "metadata": {
    "id": "jtXTZ0X5KfNj"
   },
   "source": [
    "Defining the input images for the **autoencoder**:"
   ]
  },
  {
   "cell_type": "code",
   "execution_count": 9,
   "metadata": {
    "id": "ItQ7wEhJSS_D"
   },
   "outputs": [],
   "source": [
    "input_img = keras.Input(shape = (dimension, dimension, 1))"
   ]
  },
  {
   "cell_type": "markdown",
   "metadata": {
    "id": "vmvHAWQ9Km6V"
   },
   "source": [
    "### Encoder\n",
    "\n",
    "The **encoder** will consist in a stack of `Conv2D` and `MaxPooling2D` layers:\n",
    "* **Conv2D:**\n",
    "    * _Number of filters:_ These are the units responsible for _learning_ various characteristics from the images (_edges_, _textures_, or _shapes_). The number of filters determines the depth of the output volume produced by the convolutional layer. Each **filter** learns to _detect_ different features or patterns in the input data.\n",
    "    * _Kernel size:_ This refers to the dimensions of the _small windows_ or _patches_ responsible for extracting patterns from localized regions of the input image. In other words, the kernel size specifies the _spatial dimensions of the filters_.\n",
    "* **MaxPooling2D:** Pooling layers play a crucial role in _downsampling_ the size of input feature maps while _preserving_ important _spatial information_. These layers operate by selecting the **maximum** value within each kernel-sized window. Additionally, pooling layers can aid in preventing overfitting by reducing the number of parameters and summarizing the most salient features of the input data."
   ]
  },
  {
   "cell_type": "code",
   "execution_count": 10,
   "metadata": {
    "id": "o5gMXia7SYgJ"
   },
   "outputs": [],
   "source": [
    "x = layers.Conv2D(filters = 32, kernel_size = (3, 3), activation = 'relu', padding = 'same')(input_img)\n",
    "x = layers.MaxPooling2D(pool_size = (2, 2), padding = 'same')(x)\n",
    "x = layers.Conv2D(filters = 32, kernel_size = (3, 3), activation = 'relu', padding = 'same')(x)\n",
    "encoded = layers.MaxPooling2D(pool_size = (2, 2), padding = 'same')(x)"
   ]
  },
  {
   "cell_type": "markdown",
   "metadata": {
    "id": "jnN0Pb6TLEdl"
   },
   "source": [
    "### Decoder\n",
    "\n",
    "The **decoder** will consist in a stack of `Conv2D` and `UpSampling2D` layers:\n",
    "* **UpSampling:** Are used to increase the size of input matrices by _repeating_ the values in the rows and columns. Allow for the manipulation of spatial dimensions in the feature maps."
   ]
  },
  {
   "cell_type": "code",
   "execution_count": 11,
   "metadata": {
    "id": "ZgnGidX0SxWJ"
   },
   "outputs": [],
   "source": [
    "x = layers.Conv2D(filters = 32, kernel_size = (3, 3), activation = 'relu', padding = 'same')(encoded)\n",
    "x = layers.UpSampling2D(size = (2, 2))(x)\n",
    "x = layers.Conv2D(filters = 32, kernel_size = (3, 3), activation = 'relu', padding = 'same')(x)\n",
    "x = layers.UpSampling2D(size = (2, 2))(x)\n",
    "decoded = layers.Conv2D(filters = 1, kernel_size = (3, 3), activation = 'sigmoid', padding = 'same')(x)"
   ]
  },
  {
   "cell_type": "markdown",
   "metadata": {
    "id": "59oEyALlLge_"
   },
   "source": [
    "### Autoencoder\n",
    "\n",
    "Represents the junction of the **encoder** followed by the **decoder**:"
   ]
  },
  {
   "cell_type": "code",
   "execution_count": 12,
   "metadata": {
    "id": "3CdahDXxS7b4"
   },
   "outputs": [],
   "source": [
    "autoencoder = keras.Model(input_img, decoded)"
   ]
  },
  {
   "cell_type": "markdown",
   "metadata": {
    "id": "8J55gRD_Lkmo"
   },
   "source": [
    "We can visualize the **autoencoder**:"
   ]
  },
  {
   "cell_type": "code",
   "execution_count": 13,
   "metadata": {
    "colab": {
     "base_uri": "https://localhost:8080/",
     "height": 503
    },
    "id": "yhkLKtIMTDTs",
    "outputId": "c6a9c86f-148e-4221-a97a-ead170fe14e7"
   },
   "outputs": [
    {
     "name": "stdout",
     "output_type": "stream",
     "text": [
      "Model: \"model\"\n",
      "_________________________________________________________________\n",
      " Layer (type)                Output Shape              Param #   \n",
      "=================================================================\n",
      " input_1 (InputLayer)        [(None, 28, 28, 1)]       0         \n",
      "                                                                 \n",
      " conv2d (Conv2D)             (None, 28, 28, 32)        320       \n",
      "                                                                 \n",
      " max_pooling2d (MaxPooling2  (None, 14, 14, 32)        0         \n",
      " D)                                                              \n",
      "                                                                 \n",
      " conv2d_1 (Conv2D)           (None, 14, 14, 32)        9248      \n",
      "                                                                 \n",
      " max_pooling2d_1 (MaxPoolin  (None, 7, 7, 32)          0         \n",
      " g2D)                                                            \n",
      "                                                                 \n",
      " conv2d_2 (Conv2D)           (None, 7, 7, 32)          9248      \n",
      "                                                                 \n",
      " up_sampling2d (UpSampling2  (None, 14, 14, 32)        0         \n",
      " D)                                                              \n",
      "                                                                 \n",
      " conv2d_3 (Conv2D)           (None, 14, 14, 32)        9248      \n",
      "                                                                 \n",
      " up_sampling2d_1 (UpSamplin  (None, 28, 28, 32)        0         \n",
      " g2D)                                                            \n",
      "                                                                 \n",
      " conv2d_4 (Conv2D)           (None, 28, 28, 1)         289       \n",
      "                                                                 \n",
      "=================================================================\n",
      "Total params: 28353 (110.75 KB)\n",
      "Trainable params: 28353 (110.75 KB)\n",
      "Non-trainable params: 0 (0.00 Byte)\n",
      "_________________________________________________________________\n"
     ]
    }
   ],
   "source": [
    "autoencoder.summary()"
   ]
  },
  {
   "cell_type": "markdown",
   "metadata": {
    "id": "p53WqKowLriI"
   },
   "source": [
    "## 5) Training the model"
   ]
  },
  {
   "cell_type": "markdown",
   "metadata": {
    "id": "p53WqKowLriI"
   },
   "source": [
    "Before starting training, we have to configure our model to use a **per-pixel** `binary crossentropy` _loss_, and the `Adam` _optimizer_:"
   ]
  },
  {
   "cell_type": "code",
   "execution_count": 14,
   "metadata": {
    "id": "NAqXl7JOTcq4"
   },
   "outputs": [],
   "source": [
    "autoencoder.compile(optimizer = 'adam', loss = 'binary_crossentropy')"
   ]
  },
  {
   "cell_type": "markdown",
   "metadata": {
    "id": "qavUxTB1Lv5V"
   },
   "source": [
    "### Fitting\n",
    "\n",
    "Time to learn how to denoise the image by fiting/training the method.\n",
    "\n",
    "Notice that we are defining a portion of the training set to validate the model at each epoch:"
   ]
  },
  {
   "cell_type": "code",
   "execution_count": 15,
   "metadata": {
    "colab": {
     "base_uri": "https://localhost:8080/",
     "height": 1000
    },
    "id": "vuOy8CDfTKa1",
    "outputId": "42bddb1e-d886-416a-9253-0ecf7d2251ad"
   },
   "outputs": [
    {
     "name": "stdout",
     "output_type": "stream",
     "text": [
      "Epoch 1/60\n",
      "32/32 [==============================] - 1s 10ms/step - loss: 0.4867 - val_loss: 0.3489\n",
      "Epoch 2/60\n",
      "32/32 [==============================] - 0s 8ms/step - loss: 0.2507 - val_loss: 0.2046\n",
      "Epoch 3/60\n",
      "32/32 [==============================] - 0s 8ms/step - loss: 0.1841 - val_loss: 0.1616\n",
      "Epoch 4/60\n",
      "32/32 [==============================] - 0s 8ms/step - loss: 0.1583 - val_loss: 0.1462\n",
      "Epoch 5/60\n",
      "32/32 [==============================] - 0s 8ms/step - loss: 0.1467 - val_loss: 0.1366\n",
      "Epoch 6/60\n",
      "32/32 [==============================] - 0s 8ms/step - loss: 0.1386 - val_loss: 0.1306\n",
      "Epoch 7/60\n",
      "32/32 [==============================] - 0s 8ms/step - loss: 0.1347 - val_loss: 0.1297\n",
      "Epoch 8/60\n",
      "32/32 [==============================] - 0s 9ms/step - loss: 0.1306 - val_loss: 0.1235\n",
      "Epoch 9/60\n",
      "32/32 [==============================] - 0s 8ms/step - loss: 0.1274 - val_loss: 0.1218\n",
      "Epoch 10/60\n",
      "32/32 [==============================] - 0s 8ms/step - loss: 0.1245 - val_loss: 0.1214\n",
      "Epoch 11/60\n",
      "32/32 [==============================] - 0s 9ms/step - loss: 0.1239 - val_loss: 0.1190\n",
      "Epoch 12/60\n",
      "32/32 [==============================] - 0s 9ms/step - loss: 0.1213 - val_loss: 0.1169\n",
      "Epoch 13/60\n",
      "32/32 [==============================] - 0s 9ms/step - loss: 0.1193 - val_loss: 0.1167\n",
      "Epoch 14/60\n",
      "32/32 [==============================] - 0s 9ms/step - loss: 0.1181 - val_loss: 0.1147\n",
      "Epoch 15/60\n",
      "32/32 [==============================] - 0s 9ms/step - loss: 0.1168 - val_loss: 0.1137\n",
      "Epoch 16/60\n",
      "32/32 [==============================] - 0s 9ms/step - loss: 0.1159 - val_loss: 0.1139\n",
      "Epoch 17/60\n",
      "32/32 [==============================] - 0s 9ms/step - loss: 0.1151 - val_loss: 0.1121\n",
      "Epoch 18/60\n",
      "32/32 [==============================] - 0s 9ms/step - loss: 0.1143 - val_loss: 0.1117\n",
      "Epoch 19/60\n",
      "32/32 [==============================] - 0s 9ms/step - loss: 0.1132 - val_loss: 0.1113\n",
      "Epoch 20/60\n",
      "32/32 [==============================] - 0s 9ms/step - loss: 0.1123 - val_loss: 0.1103\n",
      "Epoch 21/60\n",
      "32/32 [==============================] - 0s 9ms/step - loss: 0.1115 - val_loss: 0.1102\n",
      "Epoch 22/60\n",
      "32/32 [==============================] - 0s 9ms/step - loss: 0.1113 - val_loss: 0.1098\n",
      "Epoch 23/60\n",
      "32/32 [==============================] - 0s 9ms/step - loss: 0.1102 - val_loss: 0.1113\n",
      "Epoch 24/60\n",
      "32/32 [==============================] - 0s 9ms/step - loss: 0.1105 - val_loss: 0.1092\n",
      "Epoch 25/60\n",
      "32/32 [==============================] - 0s 9ms/step - loss: 0.1088 - val_loss: 0.1094\n",
      "Epoch 26/60\n",
      "32/32 [==============================] - 0s 9ms/step - loss: 0.1082 - val_loss: 0.1084\n",
      "Epoch 27/60\n",
      "32/32 [==============================] - 0s 9ms/step - loss: 0.1076 - val_loss: 0.1086\n",
      "Epoch 28/60\n",
      "32/32 [==============================] - 0s 9ms/step - loss: 0.1074 - val_loss: 0.1084\n",
      "Epoch 29/60\n",
      "32/32 [==============================] - 0s 9ms/step - loss: 0.1073 - val_loss: 0.1082\n",
      "Epoch 30/60\n",
      "32/32 [==============================] - 0s 9ms/step - loss: 0.1069 - val_loss: 0.1072\n",
      "Epoch 31/60\n",
      "32/32 [==============================] - 0s 9ms/step - loss: 0.1059 - val_loss: 0.1073\n",
      "Epoch 32/60\n",
      "32/32 [==============================] - 0s 9ms/step - loss: 0.1053 - val_loss: 0.1072\n",
      "Epoch 33/60\n",
      "32/32 [==============================] - 0s 9ms/step - loss: 0.1046 - val_loss: 0.1067\n",
      "Epoch 34/60\n",
      "32/32 [==============================] - 0s 9ms/step - loss: 0.1041 - val_loss: 0.1065\n",
      "Epoch 35/60\n",
      "32/32 [==============================] - 0s 9ms/step - loss: 0.1046 - val_loss: 0.1064\n",
      "Epoch 36/60\n",
      "32/32 [==============================] - 0s 9ms/step - loss: 0.1035 - val_loss: 0.1065\n",
      "Epoch 37/60\n",
      "32/32 [==============================] - 0s 9ms/step - loss: 0.1035 - val_loss: 0.1080\n",
      "Epoch 38/60\n",
      "32/32 [==============================] - 0s 9ms/step - loss: 0.1033 - val_loss: 0.1063\n",
      "Epoch 39/60\n",
      "32/32 [==============================] - 0s 9ms/step - loss: 0.1028 - val_loss: 0.1057\n",
      "Epoch 40/60\n",
      "32/32 [==============================] - 0s 9ms/step - loss: 0.1021 - val_loss: 0.1057\n",
      "Epoch 41/60\n",
      "32/32 [==============================] - 0s 9ms/step - loss: 0.1017 - val_loss: 0.1065\n",
      "Epoch 42/60\n",
      "32/32 [==============================] - 0s 9ms/step - loss: 0.1016 - val_loss: 0.1084\n",
      "Epoch 43/60\n",
      "32/32 [==============================] - 0s 9ms/step - loss: 0.1014 - val_loss: 0.1058\n",
      "Epoch 44/60\n",
      "32/32 [==============================] - 0s 9ms/step - loss: 0.1006 - val_loss: 0.1049\n",
      "Epoch 45/60\n",
      "32/32 [==============================] - 0s 9ms/step - loss: 0.1005 - val_loss: 0.1049\n",
      "Epoch 46/60\n",
      "32/32 [==============================] - 0s 9ms/step - loss: 0.1003 - val_loss: 0.1051\n",
      "Epoch 47/60\n",
      "32/32 [==============================] - 0s 10ms/step - loss: 0.1008 - val_loss: 0.1055\n",
      "Epoch 48/60\n",
      "32/32 [==============================] - 0s 10ms/step - loss: 0.0999 - val_loss: 0.1051\n",
      "Epoch 49/60\n",
      "32/32 [==============================] - 0s 9ms/step - loss: 0.1000 - val_loss: 0.1056\n",
      "Epoch 50/60\n",
      "32/32 [==============================] - 0s 9ms/step - loss: 0.0987 - val_loss: 0.1056\n",
      "Epoch 51/60\n",
      "32/32 [==============================] - 0s 9ms/step - loss: 0.0986 - val_loss: 0.1051\n",
      "Epoch 52/60\n",
      "32/32 [==============================] - 0s 10ms/step - loss: 0.0982 - val_loss: 0.1048\n",
      "Epoch 53/60\n",
      "32/32 [==============================] - 0s 10ms/step - loss: 0.0979 - val_loss: 0.1057\n",
      "Epoch 54/60\n",
      "32/32 [==============================] - 0s 10ms/step - loss: 0.0975 - val_loss: 0.1058\n",
      "Epoch 55/60\n",
      "32/32 [==============================] - 0s 9ms/step - loss: 0.0977 - val_loss: 0.1068\n",
      "Epoch 56/60\n",
      "32/32 [==============================] - 0s 9ms/step - loss: 0.0974 - val_loss: 0.1053\n",
      "Epoch 57/60\n",
      "32/32 [==============================] - 0s 10ms/step - loss: 0.0967 - val_loss: 0.1061\n",
      "Epoch 58/60\n",
      "32/32 [==============================] - 0s 10ms/step - loss: 0.0967 - val_loss: 0.1046\n",
      "Epoch 59/60\n",
      "32/32 [==============================] - 0s 9ms/step - loss: 0.0964 - val_loss: 0.1056\n",
      "Epoch 60/60\n",
      "32/32 [==============================] - 0s 9ms/step - loss: 0.0959 - val_loss: 0.1057\n"
     ]
    }
   ],
   "source": [
    "validation_split = 0.1\n",
    "history = autoencoder.fit(x_train_noisy, x_train, epochs = 60, batch_size = 20, shuffle = True, validation_split = validation_split)"
   ]
  },
  {
   "cell_type": "markdown",
   "metadata": {
    "id": "w9cwHmo0L9kL"
   },
   "source": [
    "### Tracking the history of the training stage\n",
    "\n",
    "Now, we can analise the model taking a look at the losses for the **training** and **validations** sets:"
   ]
  },
  {
   "cell_type": "code",
   "execution_count": 16,
   "metadata": {
    "colab": {
     "base_uri": "https://localhost:8080/",
     "height": 34
    },
    "id": "2jHDeAlBwW21",
    "outputId": "970a927e-31ba-47aa-f36b-9f480d4a7480"
   },
   "outputs": [
    {
     "data": {
      "text/plain": [
       "dict_keys(['loss', 'val_loss'])"
      ]
     },
     "execution_count": 16,
     "metadata": {},
     "output_type": "execute_result"
    }
   ],
   "source": [
    "history.history.keys()"
   ]
  },
  {
   "cell_type": "code",
   "execution_count": 17,
   "metadata": {
    "id": "xUjfYnorxFDi"
   },
   "outputs": [],
   "source": [
    "train_loss = history.history['loss']\n",
    "train_val_loss = history.history['val_loss']\n",
    "epochs = range(1, len(train_loss) + 1)"
   ]
  },
  {
   "cell_type": "markdown",
   "metadata": {
    "id": "UfLzzWZSMET9"
   },
   "source": [
    "Visualizing the history of the training:"
   ]
  },
  {
   "cell_type": "code",
   "execution_count": 18,
   "metadata": {
    "colab": {
     "base_uri": "https://localhost:8080/",
     "height": 402
    },
    "id": "dfltbv9BxK1f",
    "outputId": "daee689a-0316-420a-c1a9-3087d258a302"
   },
   "outputs": [
    {
     "data": {
      "text/plain": [
       "Text(0.5, 0, 'Epochs')"
      ]
     },
     "execution_count": 18,
     "metadata": {},
     "output_type": "execute_result"
    },
    {
     "data": {
      "image/png": "[encoded data removed]",
      "text/plain": [
       "<Figure size 640x480 with 1 Axes>"
      ]
     },
     "metadata": {},
     "output_type": "display_data"
    }
   ],
   "source": [
    "plt.figure(dpi = 100)\n",
    "plt.plot(epochs, train_loss, label = 'Loss')\n",
    "plt.plot(epochs, train_val_loss, '.', label = 'Val loss')\n",
    "plt.title('Training and validation metrics')\n",
    "plt.legend()\n",
    "plt.ylabel('Loss')\n",
    "plt.xlabel('Epochs')"
   ]
  },
  {
   "cell_type": "markdown",
   "metadata": {
    "id": "cWNTSsB3MP0u"
   },
   "source": [
    "## 6) Testing the model\n",
    "\n",
    "We can now take a look at the performance of our model by _testing_ it on the _test set_:"
   ]
  },
  {
   "cell_type": "code",
   "execution_count": 19,
   "metadata": {
    "id": "_uKB2CCgxQb9"
   },
   "outputs": [
    {
     "name": "stdout",
     "output_type": "stream",
     "text": [
      "10/10 [==============================] - 0s 4ms/step\n"
     ]
    }
   ],
   "source": [
    "all_denoised_images = autoencoder.predict(x_test_noisy)"
   ]
  },
  {
   "cell_type": "markdown",
   "metadata": {
    "id": "xbB-gxeUMnJx"
   },
   "source": [
    "### Visual results\n",
    "\n",
    "Here, we can compare our visual results looking side by side the noisy, targets and denoised  images."
   ]
  },
  {
   "cell_type": "code",
   "execution_count": 20,
   "metadata": {
    "colab": {
     "base_uri": "https://localhost:8080/",
     "height": 503
    },
    "id": "NEwT4ZpoyB0F",
    "outputId": "79ac8e30-d230-4928-f56f-f3a8e535dd94"
   },
   "outputs": [
    {
     "data": {
      "image/png": "[encoded data removed]",
      "text/plain": [
       "<Figure size 800x200 with 3 Axes>"
      ]
     },
     "metadata": {},
     "output_type": "display_data"
    },
    {
     "data": {
      "image/png": "[encoded data removed]",
      "text/plain": [
       "<Figure size 800x200 with 3 Axes>"
      ]
     },
     "metadata": {},
     "output_type": "display_data"
    },
    {
     "data": {
      "image/png": "[encoded data removed]",
      "text/plain": [
       "<Figure size 800x200 with 3 Axes>"
      ]
     },
     "metadata": {},
     "output_type": "display_data"
    }
   ],
   "source": [
    "n = 3\n",
    "for i in range(n):\n",
    "    fig, axes = plt.subplots(1, 3)\n",
    "    fig.set_size_inches(8, 2)\n",
    "    axes[0].set_title('Noisy image')\n",
    "    im0 = axes[0].imshow(x_test_noisy[i].reshape(dimension, dimension), cmap = 'Reds')\n",
    "    axes[1].set_title('Target image')\n",
    "    im1 = axes[1].imshow(x_test[i].reshape(dimension, dimension), cmap = 'Reds')\n",
    "    axes[2].set_title('Denoised image')\n",
    "    im2 = axes[2].imshow(all_denoised_images[i].reshape(dimension, dimension), cmap = 'Reds')"
   ]
  },
  {
   "cell_type": "markdown",
   "metadata": {
    "id": "r4usMdsRyesT"
   },
   "source": [
    "It is super exciting to see that we have finally removed all the noise, in contrast to all the previous traditional methods!"
   ]
  },
  {
   "cell_type": "markdown",
   "metadata": {},
   "source": [
    "## References\n",
    "\n",
    "[1] FAN, L. et al. Brief review of image denoising techniques. Visual Computing for Industry, Biomedicine, and Art, v. 2, 2019.\n",
    "\n",
    "[2] Tian, C. et al. Deep Learning on Image Denoising: An overview. arXiv e-prints, p. arXiv:1912.13171, dez. 2019.\n",
    "\n",
    "[3] Chollet, F. [Building Autoencoders in Keras](https://blog.keras.io/building-autoencoders-in-keras.html)\n",
    "\n",
    "[4] de SANTI, N. S. M. Machine learning methods for extracting cosmological information. 2024. doi: [10.11606/T.43.2024.tde-15072024-101341](https://www.teses.usp.br/teses/disponiveis/43/43134/tde-15072024-101341/en.php)."
   ]
  },
  {
   "cell_type": "code",
   "execution_count": null,
   "metadata": {},
   "outputs": [],
   "source": []
  }
 ],
 "metadata": {
  "colab": {
   "collapsed_sections": [],
   "name": "image_denoising.ipynb",
   "provenance": []
  },
  "kernelspec": {
   "display_name": "env_pytorch",
   "language": "python",
   "name": "env_pytorch"
  },
  "language_info": {
   "codemirror_mode": {
    "name": "ipython",
    "version": 3
   },
   "file_extension": ".py",
   "mimetype": "text/x-python",
   "name": "python",
   "nbconvert_exporter": "python",
   "pygments_lexer": "ipython3",
   "version": "3.11.4"
  }
 },
 "nbformat": 4,
 "nbformat_minor": 4
}
