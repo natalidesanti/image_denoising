{
 "cells": [
  {
   "cell_type": "markdown",
   "metadata": {
    "id": "7qRouQU6CBYp"
   },
   "source": [
    "# Image Denoising\n",
    "\n",
    "In this notebook you will see an example of an **image denoising**, using an _autoencoder_, inspired into Francois Chollet [tutorial](https://blog.keras.io/building-autoencoders-in-keras.html)."
   ]
  },
  {
   "cell_type": "markdown",
   "metadata": {
    "id": "PlefLaHBDM-d"
   },
   "source": [
    "## Libraries"
   ]
  },
  {
   "cell_type": "code",
   "execution_count": 1,
   "metadata": {
    "id": "qck3CaT4RjqG"
   },
   "outputs": [],
   "source": [
    "import keras\n",
    "from keras import layers\n",
    "from keras.datasets import mnist\n",
    "import numpy as np\n",
    "import matplotlib.pyplot as plt"
   ]
  },
  {
   "cell_type": "markdown",
   "metadata": {
    "id": "8zuLUyPPDYbQ"
   },
   "source": [
    "## Data\n",
    "\n",
    "Here, we are using as our data the [MNIST](https://keras.io/api/datasets/mnist/) dataset.\n",
    "\n",
    "This is a dataset of 60 000 images of size 28 $\\times$ 28 grayscale images of hand written of 10 digits (0, 1, 2, 3, 4, 5, 6, 7, 8, 9), along with a test set of 10 000 images."
   ]
  },
  {
   "cell_type": "markdown",
   "metadata": {
    "id": "Es7vRf4TEGxT"
   },
   "source": [
    "### Importing data\n",
    "\n",
    "This dataset is mostly used in _classification problems_, that is why they have the images and a second information, the labels of each image.\n",
    "\n",
    "But, as we are going to map digits images to clean them, we are not going to use the labels.\n",
    "\n",
    "In this way, our process is going to take the **noised images** and clear the same based into the **true images** as _targets_."
   ]
  },
  {
   "cell_type": "code",
   "execution_count": 2,
   "metadata": {
    "id": "nEuuZgQxRpjN"
   },
   "outputs": [],
   "source": [
    "(x_train, _), (x_test, _) = mnist.load_data()"
   ]
  },
  {
   "cell_type": "code",
   "execution_count": 3,
   "metadata": {
    "colab": {
     "base_uri": "https://localhost:8080/",
     "height": 34
    },
    "id": "u_f1ANSIwvWQ",
    "outputId": "215724ee-4056-482d-c392-f4d21e5a3a92"
   },
   "outputs": [
    {
     "data": {
      "text/plain": [
       "((60000, 28, 28), (10000, 28, 28))"
      ]
     },
     "execution_count": 3,
     "metadata": {},
     "output_type": "execute_result"
    }
   ],
   "source": [
    "x_train.shape, x_test.shape"
   ]
  },
  {
   "cell_type": "code",
   "execution_count": 4,
   "metadata": {
    "id": "lm5aObAyJ9KC"
   },
   "outputs": [],
   "source": [
    "dimension = x_train.shape[1]"
   ]
  },
  {
   "cell_type": "markdown",
   "metadata": {
    "id": "7iwNnFCcF0Ii"
   },
   "source": [
    "### Pre-processing data"
   ]
  },
  {
   "cell_type": "markdown",
   "metadata": {
    "id": "ySGkoOvGFaK4"
   },
   "source": [
    "Because here we are doing a simple example, we will use just a fraction of the complete dataset: just 700 images as _train_ and the same number of images as _test_."
   ]
  },
  {
   "cell_type": "code",
   "execution_count": 5,
   "metadata": {
    "id": "98_nnVm9wzLO"
   },
   "outputs": [],
   "source": [
    "num_data = 700\n",
    "x_train = x_train[0:num_data]\n",
    "x_test = x_test[0:num_data]"
   ]
  },
  {
   "cell_type": "markdown",
   "metadata": {
    "id": "u40Mvyi8GKwb"
   },
   "source": [
    "We are going to normalize the images between 0 and 1 and to reshape them."
   ]
  },
  {
   "cell_type": "code",
   "execution_count": 6,
   "metadata": {
    "id": "CU7dOwLuRtqZ"
   },
   "outputs": [],
   "source": [
    "norm_factor = 255.\n",
    "x_train = x_train.astype('float32')/norm_factor\n",
    "x_test = x_test.astype('float32')/norm_factor\n",
    "x_train = np.reshape(x_train, (len(x_train), dimension, dimension, 1))\n",
    "x_test = np.reshape(x_test, (len(x_test), dimension, dimension, 1))"
   ]
  },
  {
   "cell_type": "markdown",
   "metadata": {
    "id": "bcqjoWCPHGcf"
   },
   "source": [
    "Here, we need to noisy the images, then, we apply a Gaussian noisy matrix and clip the images between 0 and 1."
   ]
  },
  {
   "cell_type": "code",
   "execution_count": 7,
   "metadata": {
    "id": "Mvs20GYpR_2D"
   },
   "outputs": [],
   "source": [
    "noise_factor = 0.5\n",
    "x_train_noisy = x_train + noise_factor * np.random.normal(loc = 0.0, scale = 1.0, size = x_train.shape) \n",
    "x_test_noisy = x_test + noise_factor * np.random.normal(loc = 0.0, scale = 1.0, size = x_test.shape) \n",
    "\n",
    "x_train_noisy = np.clip(x_train_noisy, 0., 1.)\n",
    "x_test_noisy = np.clip(x_test_noisy, 0., 1.)"
   ]
  },
  {
   "cell_type": "markdown",
   "metadata": {
    "id": "zglXXB4WJtPf"
   },
   "source": [
    "Visualizing some noise images images"
   ]
  },
  {
   "cell_type": "code",
   "execution_count": 18,
   "metadata": {
    "colab": {
     "base_uri": "https://localhost:8080/",
     "height": 539
    },
    "id": "9HO1aCFnSIe6",
    "outputId": "e4f78587-6317-4d33-8f84-27a3a3ef01a1"
   },
   "outputs": [
    {
     "data": {
      "image/png": "[encoded data removed]",
      "text/plain": [
       "<Figure size 360x360 with 2 Axes>"
      ]
     },
     "metadata": {
      "needs_background": "light"
     },
     "output_type": "display_data"
    },
    {
     "data": {
      "image/png": "[encoded data removed]",
      "text/plain": [
       "<Figure size 360x360 with 2 Axes>"
      ]
     },
     "metadata": {
      "needs_background": "light"
     },
     "output_type": "display_data"
    },
    {
     "data": {
      "image/png": "[encoded data removed]",
      "text/plain": [
       "<Figure size 360x360 with 2 Axes>"
      ]
     },
     "metadata": {
      "needs_background": "light"
     },
     "output_type": "display_data"
    }
   ],
   "source": [
    "n = 3\n",
    "for i in range(n):\n",
    "    fig, axes = plt.subplots(1, 2)\n",
    "    fig.set_size_inches(5, 5)\n",
    "    axes[0].set_title('True image')\n",
    "    im0 = axes[0].imshow(x_test[i].reshape(dimension, dimension), cmap = 'Reds')\n",
    "    axes[1].set_title('Noisy image')\n",
    "    im1 = axes[1].imshow(x_test_noisy[i].reshape(dimension, dimension), cmap = 'Reds')"
   ]
  },
  {
   "cell_type": "markdown",
   "metadata": {
    "id": "iRDLL0fAKQgr"
   },
   "source": [
    "## Building the Autoencoder"
   ]
  },
  {
   "cell_type": "markdown",
   "metadata": {
    "id": "jtXTZ0X5KfNj"
   },
   "source": [
    "Defining the input images for the **autoencoder**"
   ]
  },
  {
   "cell_type": "code",
   "execution_count": 19,
   "metadata": {
    "id": "ItQ7wEhJSS_D"
   },
   "outputs": [],
   "source": [
    "input_img = keras.Input(shape = (dimension, dimension, 1))"
   ]
  },
  {
   "cell_type": "markdown",
   "metadata": {
    "id": "vmvHAWQ9Km6V"
   },
   "source": [
    "### Encoder"
   ]
  },
  {
   "cell_type": "code",
   "execution_count": 20,
   "metadata": {
    "id": "o5gMXia7SYgJ"
   },
   "outputs": [],
   "source": [
    "x = layers.Conv2D(filters = 32, kernel_size = (3, 3), activation = 'relu', padding = 'same')(input_img)\n",
    "x = layers.MaxPooling2D(pool_size = (2, 2), padding = 'same')(x)\n",
    "x = layers.Conv2D(filters = 32, kernel_size = (3, 3), activation = 'relu', padding = 'same')(x)\n",
    "encoded = layers.MaxPooling2D(pool_size = (2, 2), padding = 'same')(x)"
   ]
  },
  {
   "cell_type": "markdown",
   "metadata": {
    "id": "jnN0Pb6TLEdl"
   },
   "source": [
    "### Decoder"
   ]
  },
  {
   "cell_type": "code",
   "execution_count": 21,
   "metadata": {
    "id": "ZgnGidX0SxWJ"
   },
   "outputs": [],
   "source": [
    "x = layers.Conv2D(filters = 32, kernel_size = (3, 3), activation = 'relu', padding = 'same')(encoded)\n",
    "x = layers.UpSampling2D(size = (2, 2))(x)\n",
    "x = layers.Conv2D(filters = 32, kernel_size = (3, 3), activation = 'relu', padding = 'same')(x)\n",
    "x = layers.UpSampling2D(size = (2, 2))(x)\n",
    "decoded = layers.Conv2D(filters = 1, kernel_size = (3, 3), activation = 'sigmoid', padding = 'same')(x)"
   ]
  },
  {
   "cell_type": "markdown",
   "metadata": {
    "id": "59oEyALlLge_"
   },
   "source": [
    "### Autoencoder"
   ]
  },
  {
   "cell_type": "code",
   "execution_count": 22,
   "metadata": {
    "id": "3CdahDXxS7b4"
   },
   "outputs": [],
   "source": [
    "autoencoder = keras.Model(input_img, decoded)"
   ]
  },
  {
   "cell_type": "markdown",
   "metadata": {
    "id": "8J55gRD_Lkmo"
   },
   "source": [
    "Visualizing the autoencoder"
   ]
  },
  {
   "cell_type": "code",
   "execution_count": 23,
   "metadata": {
    "colab": {
     "base_uri": "https://localhost:8080/",
     "height": 503
    },
    "id": "yhkLKtIMTDTs",
    "outputId": "c6a9c86f-148e-4221-a97a-ead170fe14e7"
   },
   "outputs": [
    {
     "name": "stdout",
     "output_type": "stream",
     "text": [
      "Model: \"functional_1\"\n",
      "_________________________________________________________________\n",
      "Layer (type)                 Output Shape              Param #   \n",
      "=================================================================\n",
      "input_2 (InputLayer)         [(None, 28, 28, 1)]       0         \n",
      "_________________________________________________________________\n",
      "conv2d (Conv2D)              (None, 28, 28, 32)        320       \n",
      "_________________________________________________________________\n",
      "max_pooling2d (MaxPooling2D) (None, 14, 14, 32)        0         \n",
      "_________________________________________________________________\n",
      "conv2d_1 (Conv2D)            (None, 14, 14, 32)        9248      \n",
      "_________________________________________________________________\n",
      "max_pooling2d_1 (MaxPooling2 (None, 7, 7, 32)          0         \n",
      "_________________________________________________________________\n",
      "conv2d_2 (Conv2D)            (None, 7, 7, 32)          9248      \n",
      "_________________________________________________________________\n",
      "up_sampling2d (UpSampling2D) (None, 14, 14, 32)        0         \n",
      "_________________________________________________________________\n",
      "conv2d_3 (Conv2D)            (None, 14, 14, 32)        9248      \n",
      "_________________________________________________________________\n",
      "up_sampling2d_1 (UpSampling2 (None, 28, 28, 32)        0         \n",
      "_________________________________________________________________\n",
      "conv2d_4 (Conv2D)            (None, 28, 28, 1)         289       \n",
      "=================================================================\n",
      "Total params: 28,353\n",
      "Trainable params: 28,353\n",
      "Non-trainable params: 0\n",
      "_________________________________________________________________\n"
     ]
    }
   ],
   "source": [
    "autoencoder.summary()"
   ]
  },
  {
   "cell_type": "markdown",
   "metadata": {
    "id": "p53WqKowLriI"
   },
   "source": [
    "### Compilation"
   ]
  },
  {
   "cell_type": "code",
   "execution_count": 24,
   "metadata": {
    "id": "NAqXl7JOTcq4"
   },
   "outputs": [],
   "source": [
    "autoencoder.compile(optimizer='adam', loss='binary_crossentropy')"
   ]
  },
  {
   "cell_type": "markdown",
   "metadata": {
    "id": "qavUxTB1Lv5V"
   },
   "source": [
    "### Fitting"
   ]
  },
  {
   "cell_type": "code",
   "execution_count": 25,
   "metadata": {
    "colab": {
     "base_uri": "https://localhost:8080/",
     "height": 1000
    },
    "id": "vuOy8CDfTKa1",
    "outputId": "42bddb1e-d886-416a-9253-0ecf7d2251ad"
   },
   "outputs": [
    {
     "name": "stdout",
     "output_type": "stream",
     "text": [
      "Epoch 1/40\n",
      "7/7 [==============================] - 1s 77ms/step - loss: 0.5646 - val_loss: 0.5073\n",
      "Epoch 2/40\n",
      "7/7 [==============================] - 0s 56ms/step - loss: 0.4819 - val_loss: 0.4552\n",
      "Epoch 3/40\n",
      "7/7 [==============================] - 0s 56ms/step - loss: 0.4368 - val_loss: 0.4033\n",
      "Epoch 4/40\n",
      "7/7 [==============================] - 0s 55ms/step - loss: 0.3797 - val_loss: 0.3362\n",
      "Epoch 5/40\n",
      "7/7 [==============================] - 0s 56ms/step - loss: 0.3078 - val_loss: 0.2702\n",
      "Epoch 6/40\n",
      "7/7 [==============================] - 0s 64ms/step - loss: 0.2518 - val_loss: 0.2370\n",
      "Epoch 7/40\n",
      "7/7 [==============================] - 0s 59ms/step - loss: 0.2266 - val_loss: 0.2205\n",
      "Epoch 8/40\n",
      "7/7 [==============================] - 0s 60ms/step - loss: 0.2116 - val_loss: 0.2118\n",
      "Epoch 9/40\n",
      "7/7 [==============================] - 0s 65ms/step - loss: 0.2023 - val_loss: 0.2004\n",
      "Epoch 10/40\n",
      "7/7 [==============================] - 0s 62ms/step - loss: 0.1941 - val_loss: 0.1912\n",
      "Epoch 11/40\n",
      "7/7 [==============================] - 0s 58ms/step - loss: 0.1862 - val_loss: 0.1849\n",
      "Epoch 12/40\n",
      "7/7 [==============================] - 0s 56ms/step - loss: 0.1796 - val_loss: 0.1830\n",
      "Epoch 13/40\n",
      "7/7 [==============================] - 0s 55ms/step - loss: 0.1722 - val_loss: 0.1747\n",
      "Epoch 14/40\n",
      "7/7 [==============================] - 0s 55ms/step - loss: 0.1687 - val_loss: 0.1713\n",
      "Epoch 15/40\n",
      "7/7 [==============================] - 0s 56ms/step - loss: 0.1649 - val_loss: 0.1683\n",
      "Epoch 16/40\n",
      "7/7 [==============================] - 0s 56ms/step - loss: 0.1625 - val_loss: 0.1657\n",
      "Epoch 17/40\n",
      "7/7 [==============================] - 0s 56ms/step - loss: 0.1589 - val_loss: 0.1635\n",
      "Epoch 18/40\n",
      "7/7 [==============================] - 0s 55ms/step - loss: 0.1568 - val_loss: 0.1617\n",
      "Epoch 19/40\n",
      "7/7 [==============================] - 0s 57ms/step - loss: 0.1547 - val_loss: 0.1583\n",
      "Epoch 20/40\n",
      "7/7 [==============================] - 0s 58ms/step - loss: 0.1516 - val_loss: 0.1554\n",
      "Epoch 21/40\n",
      "7/7 [==============================] - 0s 59ms/step - loss: 0.1494 - val_loss: 0.1537\n",
      "Epoch 22/40\n",
      "7/7 [==============================] - 0s 64ms/step - loss: 0.1471 - val_loss: 0.1515\n",
      "Epoch 23/40\n",
      "7/7 [==============================] - 0s 61ms/step - loss: 0.1455 - val_loss: 0.1556\n",
      "Epoch 24/40\n",
      "7/7 [==============================] - 0s 64ms/step - loss: 0.1455 - val_loss: 0.1483\n",
      "Epoch 25/40\n",
      "7/7 [==============================] - 0s 57ms/step - loss: 0.1422 - val_loss: 0.1467\n",
      "Epoch 26/40\n",
      "7/7 [==============================] - 0s 56ms/step - loss: 0.1401 - val_loss: 0.1460\n",
      "Epoch 27/40\n",
      "7/7 [==============================] - 0s 57ms/step - loss: 0.1385 - val_loss: 0.1440\n",
      "Epoch 28/40\n",
      "7/7 [==============================] - 0s 56ms/step - loss: 0.1378 - val_loss: 0.1448\n",
      "Epoch 29/40\n",
      "7/7 [==============================] - 0s 57ms/step - loss: 0.1361 - val_loss: 0.1414\n",
      "Epoch 30/40\n",
      "7/7 [==============================] - 0s 56ms/step - loss: 0.1343 - val_loss: 0.1405\n",
      "Epoch 31/40\n",
      "7/7 [==============================] - 0s 68ms/step - loss: 0.1332 - val_loss: 0.1398\n",
      "Epoch 32/40\n",
      "7/7 [==============================] - 0s 58ms/step - loss: 0.1328 - val_loss: 0.1407\n",
      "Epoch 33/40\n",
      "7/7 [==============================] - 0s 57ms/step - loss: 0.1322 - val_loss: 0.1415\n",
      "Epoch 34/40\n",
      "7/7 [==============================] - 0s 59ms/step - loss: 0.1317 - val_loss: 0.1375\n",
      "Epoch 35/40\n",
      "7/7 [==============================] - 0s 58ms/step - loss: 0.1304 - val_loss: 0.1357\n",
      "Epoch 36/40\n",
      "7/7 [==============================] - 1s 74ms/step - loss: 0.1286 - val_loss: 0.1372\n",
      "Epoch 37/40\n",
      "7/7 [==============================] - 0s 55ms/step - loss: 0.1277 - val_loss: 0.1343\n",
      "Epoch 38/40\n",
      "7/7 [==============================] - 0s 65ms/step - loss: 0.1262 - val_loss: 0.1368\n",
      "Epoch 39/40\n",
      "7/7 [==============================] - 0s 56ms/step - loss: 0.1261 - val_loss: 0.1335\n",
      "Epoch 40/40\n",
      "7/7 [==============================] - 0s 56ms/step - loss: 0.1249 - val_loss: 0.1326\n"
     ]
    }
   ],
   "source": [
    "validation_split = 0.8\n",
    "history = autoencoder.fit(x_train_noisy, x_train, epochs = 40, batch_size = 20, shuffle = True, validation_split = validation_split)"
   ]
  },
  {
   "cell_type": "markdown",
   "metadata": {
    "id": "w9cwHmo0L9kL"
   },
   "source": [
    "### Tracking the history of the training stage"
   ]
  },
  {
   "cell_type": "code",
   "execution_count": 26,
   "metadata": {
    "colab": {
     "base_uri": "https://localhost:8080/",
     "height": 34
    },
    "id": "2jHDeAlBwW21",
    "outputId": "970a927e-31ba-47aa-f36b-9f480d4a7480"
   },
   "outputs": [
    {
     "data": {
      "text/plain": [
       "dict_keys(['loss', 'val_loss'])"
      ]
     },
     "execution_count": 26,
     "metadata": {},
     "output_type": "execute_result"
    }
   ],
   "source": [
    "history.history.keys()"
   ]
  },
  {
   "cell_type": "code",
   "execution_count": 27,
   "metadata": {
    "id": "xUjfYnorxFDi"
   },
   "outputs": [],
   "source": [
    "train_loss = history.history['loss']\n",
    "train_val_loss = history.history['val_loss']\n",
    "epochs = range(1, len(train_loss) + 1)"
   ]
  },
  {
   "cell_type": "markdown",
   "metadata": {
    "id": "UfLzzWZSMET9"
   },
   "source": [
    "Visualizing the history"
   ]
  },
  {
   "cell_type": "code",
   "execution_count": 28,
   "metadata": {
    "colab": {
     "base_uri": "https://localhost:8080/",
     "height": 402
    },
    "id": "dfltbv9BxK1f",
    "outputId": "daee689a-0316-420a-c1a9-3087d258a302"
   },
   "outputs": [
    {
     "data": {
      "text/plain": [
       "<matplotlib.legend.Legend at 0x7fae34645c70>"
      ]
     },
     "execution_count": 28,
     "metadata": {},
     "output_type": "execute_result"
    },
    {
     "data": {
      "image/png": "[encoded data removed]",
      "text/plain": [
       "<Figure size 600x400 with 1 Axes>"
      ]
     },
     "metadata": {
      "needs_background": "light"
     },
     "output_type": "display_data"
    }
   ],
   "source": [
    "plt.figure(dpi = 100)\n",
    "plt.plot(epochs, train_loss, label = 'Loss')\n",
    "plt.plot(epochs, train_val_loss, 'o', label = 'Val loss')\n",
    "plt.title('Training and validation metrics')\n",
    "plt.legend()"
   ]
  },
  {
   "cell_type": "markdown",
   "metadata": {
    "id": "cWNTSsB3MP0u"
   },
   "source": [
    "### Prediction"
   ]
  },
  {
   "cell_type": "code",
   "execution_count": 29,
   "metadata": {
    "id": "_uKB2CCgxQb9"
   },
   "outputs": [],
   "source": [
    "all_denoised_images = autoencoder.predict(x_test_noisy)"
   ]
  },
  {
   "cell_type": "markdown",
   "metadata": {
    "id": "fcNSKR8BMTx8"
   },
   "source": [
    "### Evaluation"
   ]
  },
  {
   "cell_type": "code",
   "execution_count": 30,
   "metadata": {
    "colab": {
     "base_uri": "https://localhost:8080/",
     "height": 52
    },
    "id": "oW_etasixi3m",
    "outputId": "0b9e468e-c5ca-4ade-b475-a76f7fdc0f25"
   },
   "outputs": [
    {
     "name": "stdout",
     "output_type": "stream",
     "text": [
      "35/35 [==============================] - 0s 9ms/step - loss: 0.1332\n"
     ]
    },
    {
     "data": {
      "text/plain": [
       "0.13324622809886932"
      ]
     },
     "execution_count": 30,
     "metadata": {},
     "output_type": "execute_result"
    }
   ],
   "source": [
    "test_loss  = autoencoder.evaluate(x_test_noisy, x_test, batch_size = 20)\n",
    "test_loss"
   ]
  },
  {
   "cell_type": "markdown",
   "metadata": {
    "id": "xbB-gxeUMnJx"
   },
   "source": [
    "# Visual results\n",
    "\n",
    "Here, we can compare our visual results looking side by side the noisy, targets and denoised  images."
   ]
  },
  {
   "cell_type": "code",
   "execution_count": 34,
   "metadata": {
    "colab": {
     "base_uri": "https://localhost:8080/",
     "height": 503
    },
    "id": "NEwT4ZpoyB0F",
    "outputId": "79ac8e30-d230-4928-f56f-f3a8e535dd94"
   },
   "outputs": [
    {
     "data": {
      "image/png": "[encoded data removed]",
      "text/plain": [
       "<Figure size 504x504 with 3 Axes>"
      ]
     },
     "metadata": {
      "needs_background": "light"
     },
     "output_type": "display_data"
    },
    {
     "data": {
      "image/png": "[encoded data removed]",
      "text/plain": [
       "<Figure size 504x504 with 3 Axes>"
      ]
     },
     "metadata": {
      "needs_background": "light"
     },
     "output_type": "display_data"
    },
    {
     "data": {
      "image/png": "[encoded data removed]",
      "text/plain": [
       "<Figure size 504x504 with 3 Axes>"
      ]
     },
     "metadata": {
      "needs_background": "light"
     },
     "output_type": "display_data"
    }
   ],
   "source": [
    "n = 3\n",
    "for i in range(n):\n",
    "    fig, axes = plt.subplots(1, 3)\n",
    "    fig.set_size_inches(7, 7)\n",
    "    axes[0].set_title('Noisy image')\n",
    "    im0 = axes[0].imshow(x_test_noisy[i].reshape(dimension, dimension), cmap = 'Reds')\n",
    "    axes[1].set_title('Target image')\n",
    "    im1 = axes[1].imshow(x_test[i].reshape(dimension, dimension), cmap = 'Reds')\n",
    "    axes[2].set_title('Denoised image')\n",
    "    im2 = axes[2].imshow(all_denoised_images[i].reshape(dimension, dimension), cmap = 'Reds')"
   ]
  },
  {
   "cell_type": "code",
   "execution_count": 21,
   "metadata": {
    "id": "r4usMdsRyesT"
   },
   "outputs": [],
   "source": []
  }
 ],
 "metadata": {
  "colab": {
   "collapsed_sections": [],
   "name": "image_denoising.ipynb",
   "provenance": []
  },
  "kernelspec": {
   "display_name": "Python 3",
   "language": "python",
   "name": "python3"
  },
  "language_info": {
   "codemirror_mode": {
    "name": "ipython",
    "version": 3
   },
   "file_extension": ".py",
   "mimetype": "text/x-python",
   "name": "python",
   "nbconvert_exporter": "python",
   "pygments_lexer": "ipython3",
   "version": "3.8.5"
  }
 },
 "nbformat": 4,
 "nbformat_minor": 4
}
