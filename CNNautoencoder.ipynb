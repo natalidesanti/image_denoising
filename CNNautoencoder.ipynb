{
 "cells": [
  {
   "cell_type": "markdown",
   "metadata": {
    "id": "7qRouQU6CBYp"
   },
   "source": [
    "# CNN Autoencoder\n",
    "\n",
    "#### By [Natalí de Santi](https://natalidesanti.github.io), email: natalidesanti@gmail.com\n",
    "\n",
    "In this notebook we will see an **image denoising** technique produced by a **CNN autoencoder**."
   ]
  },
  {
   "cell_type": "markdown",
   "metadata": {},
   "source": [
    "## 0) Summary\n",
    "\n",
    "* Image denoising using autoencoders\n",
    "* Convolutional Neural Networks Autoencoders\n",
    "* Libraries\n",
    "* Data\n",
    "* Building the Autoencoder\n",
    "* Training the model\n",
    "* Testing the model"
   ]
  },
  {
   "cell_type": "markdown",
   "metadata": {},
   "source": [
    "## 1) Image denoising using autoencoders\n",
    "\n",
    "`Autoencoding` is a data compression algorithm where we have the **compression** and the **decompression** functions that are: \n",
    "\n",
    "_data-specific_, _lossy_, and _learned automatically from examples_.\n",
    "\n",
    "That is the reason why that, differently from the _traditional methods_ we have seen before, this new category of _image denoising methods_\n",
    "are purely **data-driven**, what means there is no need to phocus on a specific kind of noise.\n",
    "\n",
    "A **autoencoder** can be a __deep Learning algorithm__ which takes an _input image_, assign _importance_ (learnable weight, biases and \n",
    "retains spatial relationships in the data into each one of theirs layers) to various aspects/parts in the image and is able to \n",
    "differentiate/reconstruct the same."
   ]
  },
  {
   "cell_type": "markdown",
   "metadata": {},
   "source": [
    "The general idea behind this kind of code can be visualized here:\n",
    "\n",
    "![General autoencoder](https://www.pyimagesearch.com/wp-content/uploads/2020/02/keras_denoising_autoencoder_overview.png)\n",
    "###### Figure: Example of a general autoencoder"
   ]
  },
  {
   "cell_type": "markdown",
   "metadata": {},
   "source": [
    "Then, the **autoencoder** compreehends an _encoder_ and a _decoder_. \n",
    "\n",
    "The **encoder** does the _encoding process_, i.e., transforms the image into a _compressed representation_ at the same time that starts the noisy reduction. \n",
    "\n",
    "Then, the _compressed representation_ goes to **decoder** that performs the _decoder process_, restoring the image to its true and recognizable shape. \n",
    "\n",
    "The encoder and decoder are usually chosen as _parametric function_, here represented by **cneural networks**, and the _parameters_ of the encoding/decoding functions are optimized to minimize the **loss function**, which is a measure of the difference between the _denoised image_ and the _true_ one.\n",
    "\n",
    "At the end of the process, we remove almost all noise in the image."
   ]
  },
  {
   "cell_type": "markdown",
   "metadata": {},
   "source": [
    "## 2) Convolutional Neural Networks Autoencoders\n",
    "\n",
    "**Convolutional Neural Networks** (CNN/convnets) are networks specifically designed to handle _matrix data_, \n",
    "more specifically **regular data** (due to their _structured_ representation as two-dimensional grids of pixels with _fixed positions_ and _homogeneous channels_). \n",
    "Images are a prime example of such data, represented as matrices of pixels, with dimensions for height, width, and color channel \n",
    "(typically, RGB images have three color channels corresponding to red, blue, and green). \n",
    "This feature has made CNNs immensely popular in computer vision applications [1, 2, 3, 4]."
   ]
  },
  {
   "cell_type": "markdown",
   "metadata": {},
   "source": [
    "In general lines, the **convolutional operation** can be seen as a matrix multiplication between the _image_ and the _kernel_, that swipes the whole image, producing the resulting matrix, containing a compressed representation of the first matrix:"
   ]
  },
  {
   "cell_type": "markdown",
   "metadata": {},
   "source": [
    "![](https://miro.medium.com/v2/resize:fit:1400/0*5UU89qw6guc5AaOp)\n",
    "###### Figure: Example of the convolutional operation"
   ]
  },
  {
   "cell_type": "markdown",
   "metadata": {},
   "source": [
    "There are many building blocks of **convnets**, e.g.: `Conv2D`, `MaxPooling2D`, `UpSampling2D`, among others. \n",
    "\n",
    "To see more details about these layers (or even more layers examples) take a look at [4] and [keras layers documentation](https://keras.io/api/layers/)."
   ]
  },
  {
   "cell_type": "markdown",
   "metadata": {
    "id": "PlefLaHBDM-d"
   },
   "source": [
    "## 3) Libraries\n",
    "\n",
    "Once again, the libraries are subject to your installation (see notebook of image denoising).\n",
    "\n",
    "Here, we will implement the **CNNautoencoder** using `keras`:"
   ]
  },
  {
   "cell_type": "code",
   "execution_count": 1,
   "metadata": {
    "id": "qck3CaT4RjqG"
   },
   "outputs": [],
   "source": [
    "try:\n",
    "    import keras\n",
    "    from keras import layers\n",
    "    from keras.datasets import mnist\n",
    "    import numpy as np\n",
    "    import matplotlib.pyplot as plt\n",
    "except:\n",
    "    from tensorflow import keras\n",
    "    from tensorflow.keras import layers\n",
    "    from tensorflow.keras.datasets import mnist\n",
    "    import numpy as np\n",
    "    import matplotlib.pyplot as plt"
   ]
  },
  {
   "cell_type": "markdown",
   "metadata": {
    "id": "8zuLUyPPDYbQ"
   },
   "source": [
    "## 4) Data\n",
    "\n",
    "As detailed in the first notebook, we are using as our data the [MNIST](https://keras.io/api/datasets/mnist/) dataset."
   ]
  },
  {
   "cell_type": "markdown",
   "metadata": {
    "id": "Es7vRf4TEGxT"
   },
   "source": [
    "### Importing data"
   ]
  },
  {
   "cell_type": "code",
   "execution_count": 2,
   "metadata": {
    "id": "nEuuZgQxRpjN"
   },
   "outputs": [],
   "source": [
    "(x_train, _), (x_test, _) = mnist.load_data()"
   ]
  },
  {
   "cell_type": "code",
   "execution_count": 3,
   "metadata": {
    "colab": {
     "base_uri": "https://localhost:8080/",
     "height": 34
    },
    "id": "u_f1ANSIwvWQ",
    "outputId": "215724ee-4056-482d-c392-f4d21e5a3a92"
   },
   "outputs": [
    {
     "data": {
      "text/plain": [
       "((60000, 28, 28), (10000, 28, 28))"
      ]
     },
     "execution_count": 3,
     "metadata": {},
     "output_type": "execute_result"
    }
   ],
   "source": [
    "x_train.shape, x_test.shape"
   ]
  },
  {
   "cell_type": "code",
   "execution_count": 4,
   "metadata": {
    "id": "lm5aObAyJ9KC"
   },
   "outputs": [],
   "source": [
    "dimension = x_train.shape[1]"
   ]
  },
  {
   "cell_type": "markdown",
   "metadata": {
    "id": "7iwNnFCcF0Ii"
   },
   "source": [
    "### Pre-processing data"
   ]
  },
  {
   "cell_type": "code",
   "execution_count": 5,
   "metadata": {
    "id": "98_nnVm9wzLO"
   },
   "outputs": [],
   "source": [
    "num_data = 10000\n",
    "frac_train = 0.7\n",
    "frac_test = 0.3\n",
    "x_train = x_train[0:int(frac_train*num_data)]\n",
    "x_test = x_test[0:int(frac_test*num_data)]"
   ]
  },
  {
   "cell_type": "markdown",
   "metadata": {
    "id": "u40Mvyi8GKwb"
   },
   "source": [
    "We are going to normalize the images between 0 and 1 and to reshape them."
   ]
  },
  {
   "cell_type": "code",
   "execution_count": 6,
   "metadata": {
    "id": "CU7dOwLuRtqZ"
   },
   "outputs": [],
   "source": [
    "norm_factor = 255.\n",
    "x_train = x_train.astype('float32')/norm_factor\n",
    "x_test = x_test.astype('float32')/norm_factor\n",
    "x_train = np.reshape(x_train, (len(x_train), dimension, dimension, 1))\n",
    "x_test = np.reshape(x_test, (len(x_test), dimension, dimension, 1))"
   ]
  },
  {
   "cell_type": "markdown",
   "metadata": {
    "id": "bcqjoWCPHGcf"
   },
   "source": [
    "Here, we need to noisy the images, then, we apply a Gaussian noisy matrix and clip the images between 0 and 1."
   ]
  },
  {
   "cell_type": "code",
   "execution_count": 7,
   "metadata": {
    "id": "Mvs20GYpR_2D"
   },
   "outputs": [],
   "source": [
    "noise_factor = 0.5\n",
    "x_train_noisy = x_train + noise_factor * np.random.normal(loc = 0.0, scale = 1.0, size = x_train.shape) \n",
    "x_test_noisy = x_test + noise_factor * np.random.normal(loc = 0.0, scale = 1.0, size = x_test.shape) \n",
    "\n",
    "x_train_noisy = np.clip(x_train_noisy, 0., 1.)\n",
    "x_test_noisy = np.clip(x_test_noisy, 0., 1.)"
   ]
  },
  {
   "cell_type": "markdown",
   "metadata": {
    "id": "zglXXB4WJtPf"
   },
   "source": [
    "Visualizing some noise images images."
   ]
  },
  {
   "cell_type": "code",
   "execution_count": 8,
   "metadata": {
    "colab": {
     "base_uri": "https://localhost:8080/",
     "height": 539
    },
    "id": "9HO1aCFnSIe6",
    "outputId": "e4f78587-6317-4d33-8f84-27a3a3ef01a1"
   },
   "outputs": [
    {
     "data": {
      "image/png": "[encoded data removed]",
      "text/plain": [
       "<Figure size 500x500 with 2 Axes>"
      ]
     },
     "metadata": {},
     "output_type": "display_data"
    },
    {
     "data": {
      "image/png": "[encoded data removed]",
      "text/plain": [
       "<Figure size 500x500 with 2 Axes>"
      ]
     },
     "metadata": {},
     "output_type": "display_data"
    },
    {
     "data": {
      "image/png": "[encoded data removed]",
      "text/plain": [
       "<Figure size 500x500 with 2 Axes>"
      ]
     },
     "metadata": {},
     "output_type": "display_data"
    }
   ],
   "source": [
    "n = 3\n",
    "for i in range(n):\n",
    "    fig, axes = plt.subplots(1, 2)\n",
    "    fig.set_size_inches(5, 5)\n",
    "    axes[0].set_title('True image')\n",
    "    im0 = axes[0].imshow(x_test[i].reshape(dimension, dimension), cmap = 'Reds')\n",
    "    axes[1].set_title('Noisy image')\n",
    "    im1 = axes[1].imshow(x_test_noisy[i].reshape(dimension, dimension), cmap = 'Reds')"
   ]
  },
  {
   "cell_type": "markdown",
   "metadata": {
    "id": "iRDLL0fAKQgr"
   },
   "source": [
    "## 5) Building the Autoencoder"
   ]
  },
  {
   "cell_type": "markdown",
   "metadata": {
    "id": "jtXTZ0X5KfNj"
   },
   "source": [
    "Defining the input images for the **autoencoder**:"
   ]
  },
  {
   "cell_type": "code",
   "execution_count": 9,
   "metadata": {
    "id": "ItQ7wEhJSS_D"
   },
   "outputs": [],
   "source": [
    "input_img = keras.Input(shape = (dimension, dimension, 1))"
   ]
  },
  {
   "cell_type": "markdown",
   "metadata": {
    "id": "vmvHAWQ9Km6V"
   },
   "source": [
    "### Encoder\n",
    "\n",
    "The **encoder** will consist in a stack of `Conv2D` and `MaxPooling2D` layers:\n",
    "* **Conv2D:**\n",
    "    * _Number of filters:_ These are the units responsible for _learning_ various characteristics from the images (_edges_, _textures_, or _shapes_). The number of filters determines the depth of the output volume produced by the convolutional layer. Each **filter** learns to _detect_ different features or patterns in the input data.\n",
    "    * _Kernel size:_ This refers to the dimensions of the _small windows_ or _patches_ responsible for extracting patterns from localized regions of the input image. In other words, the kernel size specifies the _spatial dimensions of the filters_.\n",
    "* **MaxPooling2D:** Pooling layers play a crucial role in _downsampling_ the size of input feature maps while _preserving_ important _spatial information_. These layers operate by selecting the **maximum** value within each kernel-sized window. Additionally, pooling layers can aid in preventing overfitting by reducing the number of parameters and summarizing the most salient features of the input data."
   ]
  },
  {
   "cell_type": "code",
   "execution_count": 10,
   "metadata": {
    "id": "o5gMXia7SYgJ"
   },
   "outputs": [],
   "source": [
    "x = layers.Conv2D(filters = 64, kernel_size = (3, 3), activation = 'relu', padding = 'same')(input_img)\n",
    "x = layers.MaxPooling2D(pool_size = (2, 2), padding = 'same')(x)\n",
    "x = layers.Conv2D(filters = 16, kernel_size = (3, 3), activation = 'relu', padding = 'same')(x)\n",
    "encoded = layers.MaxPooling2D(pool_size = (2, 2), padding = 'same')(x)"
   ]
  },
  {
   "cell_type": "markdown",
   "metadata": {
    "id": "jnN0Pb6TLEdl"
   },
   "source": [
    "### Decoder\n",
    "\n",
    "The **decoder** will consist in a stack of `Conv2D` and `UpSampling2D` layers:\n",
    "* **UpSampling:** Are used to increase the size of input matrices by _repeating_ the values in the rows and columns. Allow for the manipulation of spatial dimensions in the feature maps."
   ]
  },
  {
   "cell_type": "code",
   "execution_count": 11,
   "metadata": {
    "id": "ZgnGidX0SxWJ"
   },
   "outputs": [],
   "source": [
    "x = layers.Conv2D(filters = 16, kernel_size = (3, 3), activation = 'relu', padding = 'same')(encoded)\n",
    "x = layers.UpSampling2D(size = (2, 2))(x)\n",
    "x = layers.Conv2D(filters = 64, kernel_size = (3, 3), activation = 'relu', padding = 'same')(x)\n",
    "x = layers.UpSampling2D(size = (2, 2))(x)\n",
    "decoded = layers.Conv2D(filters = 1, kernel_size = (3, 3), activation = 'sigmoid', padding = 'same')(x)"
   ]
  },
  {
   "cell_type": "markdown",
   "metadata": {
    "id": "59oEyALlLge_"
   },
   "source": [
    "### Autoencoder\n",
    "\n",
    "Represents the junction of the **encoder** followed by the **decoder**:"
   ]
  },
  {
   "cell_type": "code",
   "execution_count": 12,
   "metadata": {
    "id": "3CdahDXxS7b4"
   },
   "outputs": [],
   "source": [
    "autoencoder = keras.Model(input_img, decoded)"
   ]
  },
  {
   "cell_type": "markdown",
   "metadata": {
    "id": "8J55gRD_Lkmo"
   },
   "source": [
    "We can visualize the **autoencoder**:"
   ]
  },
  {
   "cell_type": "code",
   "execution_count": 13,
   "metadata": {
    "colab": {
     "base_uri": "https://localhost:8080/",
     "height": 503
    },
    "id": "yhkLKtIMTDTs",
    "outputId": "c6a9c86f-148e-4221-a97a-ead170fe14e7"
   },
   "outputs": [
    {
     "name": "stdout",
     "output_type": "stream",
     "text": [
      "Model: \"model\"\n",
      "_________________________________________________________________\n",
      " Layer (type)                Output Shape              Param #   \n",
      "=================================================================\n",
      " input_1 (InputLayer)        [(None, 28, 28, 1)]       0         \n",
      "                                                                 \n",
      " conv2d (Conv2D)             (None, 28, 28, 64)        640       \n",
      "                                                                 \n",
      " max_pooling2d (MaxPooling2  (None, 14, 14, 64)        0         \n",
      " D)                                                              \n",
      "                                                                 \n",
      " conv2d_1 (Conv2D)           (None, 14, 14, 16)        9232      \n",
      "                                                                 \n",
      " max_pooling2d_1 (MaxPoolin  (None, 7, 7, 16)          0         \n",
      " g2D)                                                            \n",
      "                                                                 \n",
      " conv2d_2 (Conv2D)           (None, 7, 7, 16)          2320      \n",
      "                                                                 \n",
      " up_sampling2d (UpSampling2  (None, 14, 14, 16)        0         \n",
      " D)                                                              \n",
      "                                                                 \n",
      " conv2d_3 (Conv2D)           (None, 14, 14, 64)        9280      \n",
      "                                                                 \n",
      " up_sampling2d_1 (UpSamplin  (None, 28, 28, 64)        0         \n",
      " g2D)                                                            \n",
      "                                                                 \n",
      " conv2d_4 (Conv2D)           (None, 28, 28, 1)         577       \n",
      "                                                                 \n",
      "=================================================================\n",
      "Total params: 22049 (86.13 KB)\n",
      "Trainable params: 22049 (86.13 KB)\n",
      "Non-trainable params: 0 (0.00 Byte)\n",
      "_________________________________________________________________\n"
     ]
    }
   ],
   "source": [
    "autoencoder.summary()"
   ]
  },
  {
   "cell_type": "markdown",
   "metadata": {
    "id": "p53WqKowLriI"
   },
   "source": [
    "## 6) Training the model"
   ]
  },
  {
   "cell_type": "markdown",
   "metadata": {
    "id": "p53WqKowLriI"
   },
   "source": [
    "Before starting training, we have to configure our model to use a **per-pixel** `binary crossentropy` _loss_, and the `Adam` _optimizer_:"
   ]
  },
  {
   "cell_type": "code",
   "execution_count": 14,
   "metadata": {
    "id": "NAqXl7JOTcq4"
   },
   "outputs": [],
   "source": [
    "autoencoder.compile(optimizer = 'adam', loss = 'binary_crossentropy')"
   ]
  },
  {
   "cell_type": "markdown",
   "metadata": {
    "id": "qavUxTB1Lv5V"
   },
   "source": [
    "### Fitting\n",
    "\n",
    "Time to learn how to denoise the image by fiting/training the method.\n",
    "\n",
    "Notice that we are defining a portion of the training set to validate the model at each epoch:"
   ]
  },
  {
   "cell_type": "code",
   "execution_count": 15,
   "metadata": {
    "colab": {
     "base_uri": "https://localhost:8080/",
     "height": 1000
    },
    "id": "vuOy8CDfTKa1",
    "outputId": "42bddb1e-d886-416a-9253-0ecf7d2251ad"
   },
   "outputs": [
    {
     "name": "stdout",
     "output_type": "stream",
     "text": [
      "Epoch 1/40\n",
      "315/315 [==============================] - 4s 11ms/step - loss: 0.1988 - val_loss: 0.1300\n",
      "Epoch 2/40\n",
      "315/315 [==============================] - 3s 11ms/step - loss: 0.1234 - val_loss: 0.1190\n",
      "Epoch 3/40\n",
      "315/315 [==============================] - 4s 11ms/step - loss: 0.1155 - val_loss: 0.1135\n",
      "Epoch 4/40\n",
      "315/315 [==============================] - 4s 12ms/step - loss: 0.1119 - val_loss: 0.1113\n",
      "Epoch 5/40\n",
      "315/315 [==============================] - 4s 12ms/step - loss: 0.1093 - val_loss: 0.1082\n",
      "Epoch 6/40\n",
      "315/315 [==============================] - 4s 12ms/step - loss: 0.1073 - val_loss: 0.1066\n",
      "Epoch 7/40\n",
      "315/315 [==============================] - 4s 13ms/step - loss: 0.1060 - val_loss: 0.1061\n",
      "Epoch 8/40\n",
      "315/315 [==============================] - 4s 13ms/step - loss: 0.1050 - val_loss: 0.1041\n",
      "Epoch 9/40\n",
      "315/315 [==============================] - 4s 13ms/step - loss: 0.1039 - val_loss: 0.1034\n",
      "Epoch 10/40\n",
      "315/315 [==============================] - 4s 12ms/step - loss: 0.1032 - val_loss: 0.1027\n",
      "Epoch 11/40\n",
      "315/315 [==============================] - 4s 13ms/step - loss: 0.1025 - val_loss: 0.1023\n",
      "Epoch 12/40\n",
      "315/315 [==============================] - 4s 13ms/step - loss: 0.1018 - val_loss: 0.1027\n",
      "Epoch 13/40\n",
      "315/315 [==============================] - 4s 14ms/step - loss: 0.1013 - val_loss: 0.1013\n",
      "Epoch 14/40\n",
      "315/315 [==============================] - 4s 14ms/step - loss: 0.1009 - val_loss: 0.1009\n",
      "Epoch 15/40\n",
      "315/315 [==============================] - 4s 14ms/step - loss: 0.1004 - val_loss: 0.1037\n",
      "Epoch 16/40\n",
      "315/315 [==============================] - 4s 14ms/step - loss: 0.1002 - val_loss: 0.1020\n",
      "Epoch 17/40\n",
      "315/315 [==============================] - 4s 13ms/step - loss: 0.0998 - val_loss: 0.1002\n",
      "Epoch 18/40\n",
      "315/315 [==============================] - 4s 13ms/step - loss: 0.0994 - val_loss: 0.1000\n",
      "Epoch 19/40\n",
      "315/315 [==============================] - 4s 14ms/step - loss: 0.0993 - val_loss: 0.1011\n",
      "Epoch 20/40\n",
      "315/315 [==============================] - 4s 14ms/step - loss: 0.0988 - val_loss: 0.0998\n",
      "Epoch 21/40\n",
      "315/315 [==============================] - 4s 14ms/step - loss: 0.0986 - val_loss: 0.0997\n",
      "Epoch 22/40\n",
      "315/315 [==============================] - 4s 14ms/step - loss: 0.0986 - val_loss: 0.0992\n",
      "Epoch 23/40\n",
      "315/315 [==============================] - 4s 13ms/step - loss: 0.0981 - val_loss: 0.0999\n",
      "Epoch 24/40\n",
      "315/315 [==============================] - 4s 13ms/step - loss: 0.0979 - val_loss: 0.0996\n",
      "Epoch 25/40\n",
      "315/315 [==============================] - 4s 13ms/step - loss: 0.0977 - val_loss: 0.0992\n",
      "Epoch 26/40\n",
      "315/315 [==============================] - 4s 13ms/step - loss: 0.0976 - val_loss: 0.0989\n",
      "Epoch 27/40\n",
      "315/315 [==============================] - 4s 13ms/step - loss: 0.0973 - val_loss: 0.0986\n",
      "Epoch 28/40\n",
      "315/315 [==============================] - 4s 13ms/step - loss: 0.0973 - val_loss: 0.0989\n",
      "Epoch 29/40\n",
      "315/315 [==============================] - 4s 13ms/step - loss: 0.0972 - val_loss: 0.0989\n",
      "Epoch 30/40\n",
      "315/315 [==============================] - 4s 13ms/step - loss: 0.0970 - val_loss: 0.0989\n",
      "Epoch 31/40\n",
      "315/315 [==============================] - 4s 13ms/step - loss: 0.0968 - val_loss: 0.0986\n",
      "Epoch 32/40\n",
      "315/315 [==============================] - 4s 13ms/step - loss: 0.0967 - val_loss: 0.0988\n",
      "Epoch 33/40\n",
      "315/315 [==============================] - 4s 14ms/step - loss: 0.0966 - val_loss: 0.1001\n",
      "Epoch 34/40\n",
      "315/315 [==============================] - 4s 13ms/step - loss: 0.0965 - val_loss: 0.0986\n",
      "Epoch 35/40\n",
      "315/315 [==============================] - 4s 13ms/step - loss: 0.0964 - val_loss: 0.0980\n",
      "Epoch 36/40\n",
      "315/315 [==============================] - 4s 14ms/step - loss: 0.0962 - val_loss: 0.0989\n",
      "Epoch 37/40\n",
      "315/315 [==============================] - 4s 14ms/step - loss: 0.0962 - val_loss: 0.0991\n",
      "Epoch 38/40\n",
      "315/315 [==============================] - 4s 13ms/step - loss: 0.0960 - val_loss: 0.0981\n",
      "Epoch 39/40\n",
      "315/315 [==============================] - 4s 13ms/step - loss: 0.0962 - val_loss: 0.0983\n",
      "Epoch 40/40\n",
      "315/315 [==============================] - 4s 14ms/step - loss: 0.0959 - val_loss: 0.0982\n"
     ]
    }
   ],
   "source": [
    "validation_split = 0.1\n",
    "history = autoencoder.fit(x_train_noisy, x_train, epochs = 40, batch_size = 20, shuffle = True, validation_split = validation_split)"
   ]
  },
  {
   "cell_type": "markdown",
   "metadata": {
    "id": "w9cwHmo0L9kL"
   },
   "source": [
    "### Tracking the history of the training stage\n",
    "\n",
    "Now, we can analise the model taking a look at the losses for the **training** and **validations** sets:"
   ]
  },
  {
   "cell_type": "code",
   "execution_count": 16,
   "metadata": {
    "colab": {
     "base_uri": "https://localhost:8080/",
     "height": 34
    },
    "id": "2jHDeAlBwW21",
    "outputId": "970a927e-31ba-47aa-f36b-9f480d4a7480"
   },
   "outputs": [
    {
     "data": {
      "text/plain": [
       "dict_keys(['loss', 'val_loss'])"
      ]
     },
     "execution_count": 16,
     "metadata": {},
     "output_type": "execute_result"
    }
   ],
   "source": [
    "history.history.keys()"
   ]
  },
  {
   "cell_type": "code",
   "execution_count": 17,
   "metadata": {
    "id": "xUjfYnorxFDi"
   },
   "outputs": [],
   "source": [
    "train_loss = history.history['loss']\n",
    "train_val_loss = history.history['val_loss']\n",
    "epochs = range(1, len(train_loss) + 1)"
   ]
  },
  {
   "cell_type": "markdown",
   "metadata": {
    "id": "UfLzzWZSMET9"
   },
   "source": [
    "Visualizing the history of the training:"
   ]
  },
  {
   "cell_type": "code",
   "execution_count": 18,
   "metadata": {
    "colab": {
     "base_uri": "https://localhost:8080/",
     "height": 402
    },
    "id": "dfltbv9BxK1f",
    "outputId": "daee689a-0316-420a-c1a9-3087d258a302"
   },
   "outputs": [
    {
     "data": {
      "text/plain": [
       "Text(0.5, 0, 'Epochs')"
      ]
     },
     "execution_count": 18,
     "metadata": {},
     "output_type": "execute_result"
    },
    {
     "data": {
      "image/png": "[encoded data removed]",
      "text/plain": [
       "<Figure size 640x480 with 1 Axes>"
      ]
     },
     "metadata": {},
     "output_type": "display_data"
    }
   ],
   "source": [
    "plt.figure(dpi = 100)\n",
    "plt.plot(epochs, train_loss, label = 'Loss')\n",
    "plt.plot(epochs, train_val_loss, '.', label = 'Val loss')\n",
    "plt.title('Training and validation metrics')\n",
    "plt.legend()\n",
    "plt.ylabel('Loss')\n",
    "plt.xlabel('Epochs')"
   ]
  },
  {
   "cell_type": "markdown",
   "metadata": {
    "id": "cWNTSsB3MP0u"
   },
   "source": [
    "## 7) Testing the model\n",
    "\n",
    "We can now take a look at the performance of our model by _testing_ it on the _test set_:"
   ]
  },
  {
   "cell_type": "code",
   "execution_count": 19,
   "metadata": {
    "id": "_uKB2CCgxQb9"
   },
   "outputs": [
    {
     "name": "stdout",
     "output_type": "stream",
     "text": [
      "94/94 [==============================] - 1s 6ms/step\n"
     ]
    }
   ],
   "source": [
    "all_denoised_images = autoencoder.predict(x_test_noisy)"
   ]
  },
  {
   "cell_type": "markdown",
   "metadata": {
    "id": "xbB-gxeUMnJx"
   },
   "source": [
    "### Visual results\n",
    "\n",
    "Here, we can compare our visual results looking side by side the noisy, targets and denoised  images."
   ]
  },
  {
   "cell_type": "code",
   "execution_count": 20,
   "metadata": {
    "colab": {
     "base_uri": "https://localhost:8080/",
     "height": 503
    },
    "id": "NEwT4ZpoyB0F",
    "outputId": "79ac8e30-d230-4928-f56f-f3a8e535dd94"
   },
   "outputs": [
    {
     "data": {
      "image/png": "[encoded data removed]",
      "text/plain": [
       "<Figure size 800x200 with 3 Axes>"
      ]
     },
     "metadata": {},
     "output_type": "display_data"
    },
    {
     "data": {
      "image/png": "[encoded data removed]",
      "text/plain": [
       "<Figure size 800x200 with 3 Axes>"
      ]
     },
     "metadata": {},
     "output_type": "display_data"
    },
    {
     "data": {
      "image/png": "[encoded data removed]",
      "text/plain": [
       "<Figure size 800x200 with 3 Axes>"
      ]
     },
     "metadata": {},
     "output_type": "display_data"
    }
   ],
   "source": [
    "n = 3\n",
    "for i in range(n):\n",
    "    fig, axes = plt.subplots(1, 3)\n",
    "    fig.set_size_inches(8, 2)\n",
    "    axes[0].set_title('Noisy image')\n",
    "    im0 = axes[0].imshow(x_test_noisy[i].reshape(dimension, dimension), cmap = 'Reds')\n",
    "    axes[1].set_title('Target image')\n",
    "    im1 = axes[1].imshow(x_test[i].reshape(dimension, dimension), cmap = 'Reds')\n",
    "    axes[2].set_title('Denoised image')\n",
    "    im2 = axes[2].imshow(all_denoised_images[i].reshape(dimension, dimension), cmap = 'Reds')"
   ]
  },
  {
   "cell_type": "markdown",
   "metadata": {
    "id": "r4usMdsRyesT"
   },
   "source": [
    "It is super exciting to see that we have finally removed all the noise, in contrast to all the previous traditional methods, and we almost have perfect denoised images!"
   ]
  },
  {
   "cell_type": "markdown",
   "metadata": {},
   "source": [
    "## References\n",
    "\n",
    "[1] FAN, L. et al. Brief review of image denoising techniques. Visual Computing for Industry, Biomedicine, and Art, v. 2, 2019.\n",
    "\n",
    "[2] Tian, C. et al. Deep Learning on Image Denoising: An overview. arXiv e-prints, p. arXiv:1912.13171, dez. 2019.\n",
    "\n",
    "[3] Chollet, F. [Building Autoencoders in Keras](https://blog.keras.io/building-autoencoders-in-keras.html)\n",
    "\n",
    "[4] de SANTI, N. S. M. Machine learning methods for extracting cosmological information. 2024. doi: [10.11606/T.43.2024.tde-15072024-101341](https://www.teses.usp.br/teses/disponiveis/43/43134/tde-15072024-101341/en.php)."
   ]
  },
  {
   "cell_type": "code",
   "execution_count": null,
   "metadata": {},
   "outputs": [],
   "source": []
  }
 ],
 "metadata": {
  "colab": {
   "collapsed_sections": [],
   "name": "image_denoising.ipynb",
   "provenance": []
  },
  "kernelspec": {
   "display_name": "env_pytorch",
   "language": "python",
   "name": "env_pytorch"
  },
  "language_info": {
   "codemirror_mode": {
    "name": "ipython",
    "version": 3
   },
   "file_extension": ".py",
   "mimetype": "text/x-python",
   "name": "python",
   "nbconvert_exporter": "python",
   "pygments_lexer": "ipython3",
   "version": "3.11.4"
  }
 },
 "nbformat": 4,
 "nbformat_minor": 4
}
