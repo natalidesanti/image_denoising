{
 "cells": [
  {
   "cell_type": "markdown",
   "metadata": {
    "id": "7qRouQU6CBYp"
   },
   "source": [
    "# VAE Autoencoder\n",
    "\n",
    "#### By [Natalí de Santi](https://natalidesanti.github.io), email: natalidesanti@gmail.com\n",
    "\n",
    "In this notebook we will see an **image denoising** technique produced by a **VAE autoencoder**."
   ]
  },
  {
   "cell_type": "markdown",
   "metadata": {},
   "source": [
    "## 0) Summary\n",
    "\n",
    "* Image denoising using autoencoders\n",
    "* Variation Autoencoders\n",
    "* Libraries\n",
    "* Data\n",
    "* Building the Autoencoder\n",
    "* Training the model\n",
    "* Testing the model"
   ]
  },
  {
   "cell_type": "markdown",
   "metadata": {},
   "source": [
    "## 1) Image denoising using autoencoders\n",
    "\n",
    "`Autoencoding` is a data compression algorithm where we have the **compression** and the **decompression** functions that are: \n",
    "\n",
    "_data-specific_, _lossy_, and _learned automatically from examples_.\n",
    "\n",
    "That is the reason why that, differently from the _traditional methods_ we have seen before, this new category of _image denoising methods_\n",
    "are purely **data-driven**, what means there is no need to phocus on a specific kind of noise.\n",
    "\n",
    "A **autoencoder** can be a __deep Learning algorithm__ which takes an _input image_, assign _importance_ (learnable weight, biases and \n",
    "retains spatial relationships in the data into each one of theirs layers) to various aspects/parts in the image and is able to \n",
    "differentiate/reconstruct the same."
   ]
  },
  {
   "cell_type": "markdown",
   "metadata": {},
   "source": [
    "The general idea behind this kind of code can be visualized here:\n",
    "\n",
    "![General autoencoder](https://www.pyimagesearch.com/wp-content/uploads/2020/02/keras_denoising_autoencoder_overview.png)\n",
    "###### Figure: Example of a general autoencoder"
   ]
  },
  {
   "cell_type": "markdown",
   "metadata": {},
   "source": [
    "Then, the **autoencoder** compreehends an _encoder_ and a _decoder_. \n",
    "\n",
    "The **encoder** does the _encoding process_, i.e., transforms the image into a _compressed representation_ at the same time that starts the noisy reduction. \n",
    "\n",
    "Then, the _compressed representation_ goes to **decoder** that performs the _decoder process_, restoring the image to its true and recognizable shape. \n",
    "\n",
    "The encoder and decoder are usually chosen as _parametric function_, here represented by **neural networks**, and the _parameters_ of the encoding/decoding functions are optimized to minimize the **loss function**, which is a measure of the difference between the _denoised image_ and the _true_ one.\n",
    "\n",
    "At the end of the process, we remove almost all noise in the image."
   ]
  },
  {
   "cell_type": "markdown",
   "metadata": {},
   "source": [
    "## 2) Variational Autoencoders\n",
    "\n",
    "**Variational Autoencoders** (VAE) is a type of autoencoder with **added constraints** on the _encoded representations being learned_. \n",
    "\n",
    "More precisely, it is an autoencoder that **learns a latent variable model** for its _input data_. \n",
    "\n",
    "So instead of letting the neural network learn an arbitrary function, it is _learning the parameters of a probability distribution modeling your data_. \n",
    "\n",
    "If we sample points from this distribution, we can generate new input data samples: a VAE is a **generative model**."
   ]
  },
  {
   "cell_type": "markdown",
   "metadata": {},
   "source": [
    "In a VAE, an **encoder network** _turns_ the input samples $x$ into two parameters in a **latent space**, which can be denoted as `z_mean` and `z_log_sigma`. \n",
    "\n",
    "Then, similar $z$ points are _randomly sampled_ from the _latent normal distribution_ that is assumed to **generate the data**:\n",
    "\\begin{equation}\n",
    "z = z\\_mean + exp(z\\_log\\_sigma) * epsilon,\n",
    "\\end{equation}\n",
    "where `epsilon` is a random normal tensor. \n",
    "\n",
    "Finally, a **decoder network** _maps_ these latent space points _back to the original input data_.\n",
    "\n",
    "The parameters of the model are trained via _two loss functions_: \n",
    "* A reconstruction loss forcing the decoded samples to match the initial inputs (just like in our previous autoencoders)\n",
    "* KL divergence between the learned latent distribution and the prior distribution, acting as a regularization term."
   ]
  },
  {
   "cell_type": "markdown",
   "metadata": {},
   "source": [
    "It is important to note that because of the generative essence of this model, the model is really **data-hungry**, needing _lots of data_ to explore all the options of the latent space.\n",
    "\n",
    "Due to this reason I will show how to use a VAE to remove noise from one class of digits!"
   ]
  },
  {
   "cell_type": "markdown",
   "metadata": {
    "id": "PlefLaHBDM-d"
   },
   "source": [
    "## 3) Libraries\n",
    "\n",
    "Once again, the libraries are subject to your installation (see notebook of image denoising).\n",
    "\n",
    "Here, we will implement the **CNNautoencoder** using `keras`:"
   ]
  },
  {
   "cell_type": "code",
   "execution_count": 1,
   "metadata": {
    "id": "qck3CaT4RjqG"
   },
   "outputs": [],
   "source": [
    "import numpy as np\n",
    "import matplotlib.pyplot as plt\n",
    "from scipy.stats import norm\n",
    "from tensorflow.keras.layers import Input, Lambda\n",
    "from tensorflow.keras.models import Model\n",
    "from tensorflow.keras import backend as K\n",
    "from tensorflow.keras import metrics\n",
    "from tensorflow.keras.datasets import mnist\n",
    "from tensorflow.keras.layers import Dense, Dropout, Flatten\n",
    "from tensorflow.keras.layers import Conv2D, MaxPooling2D, UpSampling2D\n",
    "from tensorflow.keras.layers import Conv2DTranspose, Reshape\n",
    "\n",
    "#To solve the problem with tensorflow version!\n",
    "import tensorflow._api.v2.compat.v1 as tf"
   ]
  },
  {
   "cell_type": "code",
   "execution_count": 2,
   "metadata": {},
   "outputs": [
    {
     "name": "stdout",
     "output_type": "stream",
     "text": [
      "WARNING:tensorflow:From /Users/natalidesanti/env_pytorch/lib/python3.11/site-packages/tensorflow/python/compat/v2_compat.py:108: disable_resource_variables (from tensorflow.python.ops.variable_scope) is deprecated and will be removed in a future version.\n",
      "Instructions for updating:\n",
      "non-resource variables are not supported in the long term\n"
     ]
    }
   ],
   "source": [
    "tf.disable_v2_behavior()"
   ]
  },
  {
   "cell_type": "markdown",
   "metadata": {
    "id": "8zuLUyPPDYbQ"
   },
   "source": [
    "## 4) Data\n",
    "\n",
    "As detailed in the first notebook, we are using as our data the [MNIST](https://keras.io/api/datasets/mnist/) dataset."
   ]
  },
  {
   "cell_type": "markdown",
   "metadata": {
    "id": "Es7vRf4TEGxT"
   },
   "source": [
    "### Importing data"
   ]
  },
  {
   "cell_type": "code",
   "execution_count": 25,
   "metadata": {
    "id": "nEuuZgQxRpjN"
   },
   "outputs": [],
   "source": [
    "(x_train, y_train), (x_test, y_test) = mnist.load_data()"
   ]
  },
  {
   "cell_type": "code",
   "execution_count": 26,
   "metadata": {
    "colab": {
     "base_uri": "https://localhost:8080/",
     "height": 34
    },
    "id": "u_f1ANSIwvWQ",
    "outputId": "215724ee-4056-482d-c392-f4d21e5a3a92"
   },
   "outputs": [
    {
     "data": {
      "text/plain": [
       "((60000, 28, 28), (10000, 28, 28), (60000,), (10000,))"
      ]
     },
     "execution_count": 26,
     "metadata": {},
     "output_type": "execute_result"
    }
   ],
   "source": [
    "x_train.shape, x_test.shape, y_train.shape, y_test.shape"
   ]
  },
  {
   "cell_type": "markdown",
   "metadata": {},
   "source": [
    "Let's select only handwritten digits of the number $2$:"
   ]
  },
  {
   "cell_type": "code",
   "execution_count": 27,
   "metadata": {},
   "outputs": [
    {
     "data": {
      "text/plain": [
       "((5958, 28, 28), (5958,), (1032, 28, 28), (1032,))"
      ]
     },
     "execution_count": 27,
     "metadata": {},
     "output_type": "execute_result"
    }
   ],
   "source": [
    "x_train = x_train[np.where(y_train == 2)]\n",
    "y_train = y_train[np.where(y_train == 2)]\n",
    "\n",
    "x_test = x_test[np.where(y_test == 2)]\n",
    "y_test = y_test[np.where(y_test == 2)]\n",
    "\n",
    "x_train.shape, y_train.shape, x_test.shape, y_test.shape"
   ]
  },
  {
   "cell_type": "code",
   "execution_count": 28,
   "metadata": {
    "id": "lm5aObAyJ9KC"
   },
   "outputs": [
    {
     "data": {
      "text/plain": [
       "28"
      ]
     },
     "execution_count": 28,
     "metadata": {},
     "output_type": "execute_result"
    }
   ],
   "source": [
    "dimension = x_train.shape[1]\n",
    "dimension"
   ]
  },
  {
   "cell_type": "markdown",
   "metadata": {
    "id": "7iwNnFCcF0Ii"
   },
   "source": [
    "### Pre-processing data"
   ]
  },
  {
   "cell_type": "markdown",
   "metadata": {
    "id": "u40Mvyi8GKwb"
   },
   "source": [
    "We are going to normalize the images between 0 and 1 and to reshape them."
   ]
  },
  {
   "cell_type": "code",
   "execution_count": 29,
   "metadata": {
    "id": "CU7dOwLuRtqZ"
   },
   "outputs": [
    {
     "data": {
      "text/plain": [
       "((5958, 28, 28, 1), (1032, 28, 28, 1))"
      ]
     },
     "execution_count": 29,
     "metadata": {},
     "output_type": "execute_result"
    }
   ],
   "source": [
    "norm_factor = 255.\n",
    "\n",
    "x_train = x_train.astype('float32')/norm_factor\n",
    "x_test = x_test.astype('float32')/norm_factor\n",
    "\n",
    "x_train = np.reshape(x_train, (len(x_train), dimension, dimension, 1))\n",
    "x_test = np.reshape(x_test, (len(x_test), dimension, dimension, 1))\n",
    "\n",
    "x_train.shape, x_test.shape"
   ]
  },
  {
   "cell_type": "markdown",
   "metadata": {
    "id": "bcqjoWCPHGcf"
   },
   "source": [
    "Here, we need to noisy the images, then, we apply a Gaussian noisy matrix and clip the images between 0 and 1."
   ]
  },
  {
   "cell_type": "code",
   "execution_count": 30,
   "metadata": {
    "id": "Mvs20GYpR_2D"
   },
   "outputs": [],
   "source": [
    "noise_factor = 0.5\n",
    "x_train_noisy = x_train + noise_factor * np.random.normal(loc = 0.0, scale = 1.0, size = x_train.shape) \n",
    "x_test_noisy = x_test + noise_factor * np.random.normal(loc = 0.0, scale = 1.0, size = x_test.shape) \n",
    "\n",
    "x_train_noisy = np.clip(x_train_noisy, 0., 1.)\n",
    "x_test_noisy = np.clip(x_test_noisy, 0., 1.)"
   ]
  },
  {
   "cell_type": "markdown",
   "metadata": {
    "id": "zglXXB4WJtPf"
   },
   "source": [
    "Visualizing some noise images images."
   ]
  },
  {
   "cell_type": "code",
   "execution_count": 9,
   "metadata": {
    "colab": {
     "base_uri": "https://localhost:8080/",
     "height": 539
    },
    "id": "9HO1aCFnSIe6",
    "outputId": "e4f78587-6317-4d33-8f84-27a3a3ef01a1"
   },
   "outputs": [
    {
     "data": {
      "image/png": "[encoded data removed]",
      "text/plain": [
       "<Figure size 500x500 with 2 Axes>"
      ]
     },
     "metadata": {},
     "output_type": "display_data"
    },
    {
     "data": {
      "image/png": "[encoded data removed]",
      "text/plain": [
       "<Figure size 500x500 with 2 Axes>"
      ]
     },
     "metadata": {},
     "output_type": "display_data"
    },
    {
     "data": {
      "image/png": "[encoded data removed]",
      "text/plain": [
       "<Figure size 500x500 with 2 Axes>"
      ]
     },
     "metadata": {},
     "output_type": "display_data"
    }
   ],
   "source": [
    "n = 3\n",
    "for i in range(n):\n",
    "    fig, axes = plt.subplots(1, 2)\n",
    "    fig.set_size_inches(5, 5)\n",
    "    axes[0].set_title('True image')\n",
    "    im0 = axes[0].imshow(x_test[i].reshape(dimension, dimension), cmap = 'Reds')\n",
    "    axes[1].set_title('Noisy image')\n",
    "    im1 = axes[1].imshow(x_test_noisy[i].reshape(dimension, dimension), cmap = 'Reds')"
   ]
  },
  {
   "cell_type": "markdown",
   "metadata": {
    "id": "iRDLL0fAKQgr"
   },
   "source": [
    "## 5) Building the Autoencoder"
   ]
  },
  {
   "cell_type": "code",
   "execution_count": 10,
   "metadata": {},
   "outputs": [],
   "source": [
    "original_dim = 784\n",
    "latent_dim = 16\n",
    "epochs = 40\n",
    "epsilon_std = 0.5\n",
    "noise_factor = 0.55\n",
    "validation_split = 0.2"
   ]
  },
  {
   "cell_type": "markdown",
   "metadata": {
    "id": "vmvHAWQ9Km6V"
   },
   "source": [
    "### Encoder"
   ]
  },
  {
   "cell_type": "code",
   "execution_count": 11,
   "metadata": {
    "id": "o5gMXia7SYgJ"
   },
   "outputs": [],
   "source": [
    "x_noise = Input(shape = (28, 28, 1))\n",
    "x = Conv2D(16, (3, 3), padding = 'same', activation = 'relu')(x_noise)\n",
    "x = Conv2D(64, (3, 3), padding = 'same', activation = 'relu')(x)\n",
    "x = MaxPooling2D((2, 2))(x)\n",
    "x = Conv2D(32, (3, 3), padding = 'same', activation = 'relu')(x)\n",
    "x = MaxPooling2D((2, 2))(x)\n",
    "x = Flatten()(x)\n",
    "z_mean = Dense(latent_dim)(x)\n",
    "z_log_var = Dense(latent_dim)(x)"
   ]
  },
  {
   "cell_type": "markdown",
   "metadata": {},
   "source": [
    "We can use these parameters to **sample** new similar points from the _latent space_:"
   ]
  },
  {
   "cell_type": "code",
   "execution_count": 12,
   "metadata": {},
   "outputs": [],
   "source": [
    "def sampling(args):\n",
    "    z_mean, z_log_var = args\n",
    "    epsilon = K.random_normal(shape = (K.shape(z_mean)[0], \n",
    "                                       latent_dim), mean = 0.,\n",
    "                              stddev = epsilon_std)\n",
    "    return z_mean + K.exp(z_log_var / 2) * epsilon"
   ]
  },
  {
   "cell_type": "code",
   "execution_count": 13,
   "metadata": {},
   "outputs": [],
   "source": [
    "z = Lambda(sampling, output_shape = (latent_dim,))([z_mean, z_log_var])\n",
    "z = Reshape([1, 1, latent_dim])(z)"
   ]
  },
  {
   "cell_type": "markdown",
   "metadata": {
    "id": "jnN0Pb6TLEdl"
   },
   "source": [
    "### Decoder"
   ]
  },
  {
   "cell_type": "code",
   "execution_count": 14,
   "metadata": {
    "id": "ZgnGidX0SxWJ"
   },
   "outputs": [],
   "source": [
    "x = Conv2DTranspose(128, (1, 1), padding = 'valid', activation = 'relu')(z)\n",
    "x = Conv2DTranspose(64, (3, 3), padding = 'valid', activation = 'relu')(x)\n",
    "x = Conv2DTranspose(64, (3, 3), padding = 'valid', activation = 'relu')(x)\n",
    "x = Conv2DTranspose(48, (3, 3), strides = (2, 2), padding = 'same',activation='relu')(x)\n",
    "x = Conv2DTranspose(48, (3, 3), padding = 'valid', activation = 'relu')(x)\n",
    "x = Conv2DTranspose(32, (3, 3), strides = (2, 2), padding = 'same',activation='relu')(x)\n",
    "x = Conv2DTranspose(16, (3, 3), padding = 'valid', activation = 'relu')(x)\n",
    "x_out = Conv2DTranspose(1, (3, 3), padding = 'valid', activation = 'sigmoid')(x)"
   ]
  },
  {
   "cell_type": "markdown",
   "metadata": {
    "id": "59oEyALlLge_"
   },
   "source": [
    "### Autoencoder"
   ]
  },
  {
   "cell_type": "code",
   "execution_count": 15,
   "metadata": {
    "id": "3CdahDXxS7b4"
   },
   "outputs": [],
   "source": [
    "# instantiate VAE model\n",
    "vae = Model(x_noise, x_out)"
   ]
  },
  {
   "cell_type": "markdown",
   "metadata": {
    "id": "8J55gRD_Lkmo"
   },
   "source": [
    "We can visualize the **autoencoder**:"
   ]
  },
  {
   "cell_type": "code",
   "execution_count": 16,
   "metadata": {
    "colab": {
     "base_uri": "https://localhost:8080/",
     "height": 503
    },
    "id": "yhkLKtIMTDTs",
    "outputId": "c6a9c86f-148e-4221-a97a-ead170fe14e7"
   },
   "outputs": [
    {
     "name": "stdout",
     "output_type": "stream",
     "text": [
      "Model: \"model\"\n",
      "__________________________________________________________________________________________________\n",
      " Layer (type)                Output Shape                 Param #   Connected to                  \n",
      "==================================================================================================\n",
      " input_1 (InputLayer)        [(None, 28, 28, 1)]          0         []                            \n",
      "                                                                                                  \n",
      " conv2d (Conv2D)             (None, 28, 28, 16)           160       ['input_1[0][0]']             \n",
      "                                                                                                  \n",
      " conv2d_1 (Conv2D)           (None, 28, 28, 64)           9280      ['conv2d[0][0]']              \n",
      "                                                                                                  \n",
      " max_pooling2d (MaxPooling2  (None, 14, 14, 64)           0         ['conv2d_1[0][0]']            \n",
      " D)                                                                                               \n",
      "                                                                                                  \n",
      " conv2d_2 (Conv2D)           (None, 14, 14, 32)           18464     ['max_pooling2d[0][0]']       \n",
      "                                                                                                  \n",
      " max_pooling2d_1 (MaxPoolin  (None, 7, 7, 32)             0         ['conv2d_2[0][0]']            \n",
      " g2D)                                                                                             \n",
      "                                                                                                  \n",
      " flatten (Flatten)           (None, 1568)                 0         ['max_pooling2d_1[0][0]']     \n",
      "                                                                                                  \n",
      " dense (Dense)               (None, 16)                   25104     ['flatten[0][0]']             \n",
      "                                                                                                  \n",
      " dense_1 (Dense)             (None, 16)                   25104     ['flatten[0][0]']             \n",
      "                                                                                                  \n",
      " lambda (Lambda)             (None, 16)                   0         ['dense[0][0]',               \n",
      "                                                                     'dense_1[0][0]']             \n",
      "                                                                                                  \n",
      " reshape (Reshape)           (None, 1, 1, 16)             0         ['lambda[0][0]']              \n",
      "                                                                                                  \n",
      " conv2d_transpose (Conv2DTr  (None, 1, 1, 128)            2176      ['reshape[0][0]']             \n",
      " anspose)                                                                                         \n",
      "                                                                                                  \n",
      " conv2d_transpose_1 (Conv2D  (None, 3, 3, 64)             73792     ['conv2d_transpose[0][0]']    \n",
      " Transpose)                                                                                       \n",
      "                                                                                                  \n",
      " conv2d_transpose_2 (Conv2D  (None, 5, 5, 64)             36928     ['conv2d_transpose_1[0][0]']  \n",
      " Transpose)                                                                                       \n",
      "                                                                                                  \n",
      " conv2d_transpose_3 (Conv2D  (None, 10, 10, 48)           27696     ['conv2d_transpose_2[0][0]']  \n",
      " Transpose)                                                                                       \n",
      "                                                                                                  \n",
      " conv2d_transpose_4 (Conv2D  (None, 12, 12, 48)           20784     ['conv2d_transpose_3[0][0]']  \n",
      " Transpose)                                                                                       \n",
      "                                                                                                  \n",
      " conv2d_transpose_5 (Conv2D  (None, 24, 24, 32)           13856     ['conv2d_transpose_4[0][0]']  \n",
      " Transpose)                                                                                       \n",
      "                                                                                                  \n",
      " conv2d_transpose_6 (Conv2D  (None, 26, 26, 16)           4624      ['conv2d_transpose_5[0][0]']  \n",
      " Transpose)                                                                                       \n",
      "                                                                                                  \n",
      " conv2d_transpose_7 (Conv2D  (None, 28, 28, 1)            145       ['conv2d_transpose_6[0][0]']  \n",
      " Transpose)                                                                                       \n",
      "                                                                                                  \n",
      "==================================================================================================\n",
      "Total params: 258113 (1008.25 KB)\n",
      "Trainable params: 258113 (1008.25 KB)\n",
      "Non-trainable params: 0 (0.00 Byte)\n",
      "__________________________________________________________________________________________________\n"
     ]
    }
   ],
   "source": [
    "vae.summary()"
   ]
  },
  {
   "cell_type": "markdown",
   "metadata": {
    "id": "p53WqKowLriI"
   },
   "source": [
    "## 6) Training the model"
   ]
  },
  {
   "cell_type": "markdown",
   "metadata": {
    "id": "p53WqKowLriI"
   },
   "source": [
    "Before starting training, we have to configure our model to use a **per-pixel** `binary crossentropy` _loss_, and the `Adam` _optimizer_:"
   ]
  },
  {
   "cell_type": "code",
   "execution_count": 17,
   "metadata": {
    "id": "NAqXl7JOTcq4"
   },
   "outputs": [],
   "source": [
    "# Compute VAE loss\n",
    "def VAE_loss(x_origin, x_out):\n",
    "    x_origin = K.flatten(x_origin)\n",
    "    x_out = K.flatten(x_out)\n",
    "    xent_loss = original_dim * metrics.binary_crossentropy(x_origin, x_out)\n",
    "    kl_loss = - 0.5 * K.sum(1 + z_log_var - K.square(z_mean) - K.exp(z_log_var), axis = -1)\n",
    "    vae_loss = K.mean(xent_loss + kl_loss)\n",
    "    return vae_loss"
   ]
  },
  {
   "cell_type": "code",
   "execution_count": 18,
   "metadata": {},
   "outputs": [],
   "source": [
    "vae.compile(optimizer = 'adam', loss = VAE_loss)"
   ]
  },
  {
   "cell_type": "markdown",
   "metadata": {
    "id": "qavUxTB1Lv5V"
   },
   "source": [
    "### Fitting\n",
    "\n",
    "Time to learn how to denoise the image by fiting/training the method.\n",
    "\n",
    "Notice that we are defining a portion of the training set to validate the model at each epoch:"
   ]
  },
  {
   "cell_type": "code",
   "execution_count": 19,
   "metadata": {},
   "outputs": [
    {
     "name": "stdout",
     "output_type": "stream",
     "text": [
      "Train on 4766 samples, validate on 1192 samples\n",
      "Epoch 1/40\n",
      " 128/4766 [..............................] - ETA: 7s - loss: 540.9823 "
     ]
    },
    {
     "name": "stderr",
     "output_type": "stream",
     "text": [
      "2024-09-27 11:32:48.362071: I tensorflow/compiler/mlir/mlir_graph_optimization_pass.cc:388] MLIR V1 optimization pass is not enabled\n",
      "2024-09-27 11:32:48.386112: W tensorflow/c/c_api.cc:305] Operation '{name:'training/Adam/conv2d_transpose_7/kernel/v/Assign' id:1072 op device:{requested: '', assigned: ''} def:{{{node training/Adam/conv2d_transpose_7/kernel/v/Assign}} = AssignVariableOp[_has_manual_control_dependencies=true, dtype=DT_FLOAT, validate_shape=false](training/Adam/conv2d_transpose_7/kernel/v, training/Adam/conv2d_transpose_7/kernel/v/Initializer/zeros)}}' was changed by setting attribute after it was run by a session. This mutation will have no effect, and will trigger an error in the future. Either don't modify nodes after running them or create a new session.\n"
     ]
    },
    {
     "name": "stdout",
     "output_type": "stream",
     "text": [
      "4736/4766 [============================>.] - ETA: 0s - loss: 267.6886"
     ]
    },
    {
     "name": "stderr",
     "output_type": "stream",
     "text": [
      "/Users/natalidesanti/env_pytorch/lib/python3.11/site-packages/keras/src/engine/training_v1.py:2335: UserWarning: `Model.state_updates` will be removed in a future version. This property should not be used in TensorFlow 2.0, as `updates` are applied automatically.\n",
      "  updates = self.state_updates\n",
      "2024-09-27 11:32:50.946179: W tensorflow/c/c_api.cc:305] Operation '{name:'loss/mul' id:467 op device:{requested: '', assigned: ''} def:{{{node loss/mul}} = Mul[T=DT_FLOAT, _has_manual_control_dependencies=true](loss/mul/x, loss/conv2d_transpose_7_loss/value)}}' was changed by setting attribute after it was run by a session. This mutation will have no effect, and will trigger an error in the future. Either don't modify nodes after running them or create a new session.\n"
     ]
    },
    {
     "name": "stdout",
     "output_type": "stream",
     "text": [
      "4766/4766 [==============================] - 3s 602us/sample - loss: 267.2992 - val_loss: 202.9536\n",
      "Epoch 2/40\n",
      "4766/4766 [==============================] - 3s 607us/sample - loss: 187.5044 - val_loss: 169.0018\n",
      "Epoch 3/40\n",
      "4766/4766 [==============================] - 3s 630us/sample - loss: 152.3166 - val_loss: 144.0598\n",
      "Epoch 4/40\n",
      "4766/4766 [==============================] - 3s 648us/sample - loss: 137.6370 - val_loss: 135.4466\n",
      "Epoch 5/40\n",
      "4766/4766 [==============================] - 3s 665us/sample - loss: 131.6027 - val_loss: 131.0999\n",
      "Epoch 6/40\n",
      "4766/4766 [==============================] - 3s 681us/sample - loss: 126.9574 - val_loss: 127.6924\n",
      "Epoch 7/40\n",
      "4766/4766 [==============================] - 3s 687us/sample - loss: 123.2478 - val_loss: 123.9070\n",
      "Epoch 8/40\n",
      "4766/4766 [==============================] - 3s 728us/sample - loss: 120.1238 - val_loss: 121.8737\n",
      "Epoch 9/40\n",
      "4766/4766 [==============================] - 4s 741us/sample - loss: 118.2518 - val_loss: 120.6515\n",
      "Epoch 10/40\n",
      "4766/4766 [==============================] - 4s 738us/sample - loss: 116.4900 - val_loss: 120.2273\n",
      "Epoch 11/40\n",
      "4766/4766 [==============================] - 4s 735us/sample - loss: 115.4569 - val_loss: 120.2849\n",
      "Epoch 12/40\n",
      "4766/4766 [==============================] - 4s 745us/sample - loss: 114.4504 - val_loss: 119.1261\n",
      "Epoch 13/40\n",
      "4766/4766 [==============================] - 4s 757us/sample - loss: 113.5709 - val_loss: 118.3266\n",
      "Epoch 14/40\n",
      "4766/4766 [==============================] - 3s 722us/sample - loss: 112.6255 - val_loss: 119.1461\n",
      "Epoch 15/40\n",
      "4766/4766 [==============================] - 3s 699us/sample - loss: 111.8661 - val_loss: 118.2657\n",
      "Epoch 16/40\n",
      "4766/4766 [==============================] - 3s 712us/sample - loss: 111.1834 - val_loss: 116.4780\n",
      "Epoch 17/40\n",
      "4766/4766 [==============================] - 3s 723us/sample - loss: 110.5253 - val_loss: 116.4835\n",
      "Epoch 18/40\n",
      "4766/4766 [==============================] - 3s 733us/sample - loss: 110.0487 - val_loss: 117.5974\n",
      "Epoch 19/40\n",
      "4766/4766 [==============================] - 3s 720us/sample - loss: 109.4613 - val_loss: 115.8236\n",
      "Epoch 20/40\n",
      "4766/4766 [==============================] - 4s 759us/sample - loss: 109.0880 - val_loss: 115.8025\n",
      "Epoch 21/40\n",
      "4766/4766 [==============================] - 4s 774us/sample - loss: 108.4539 - val_loss: 116.8001\n",
      "Epoch 22/40\n",
      "4766/4766 [==============================] - 4s 795us/sample - loss: 108.2776 - val_loss: 115.2252\n",
      "Epoch 23/40\n",
      "4766/4766 [==============================] - 4s 774us/sample - loss: 107.9919 - val_loss: 115.7997\n",
      "Epoch 24/40\n",
      "4766/4766 [==============================] - 4s 762us/sample - loss: 107.4664 - val_loss: 116.0484\n",
      "Epoch 25/40\n",
      "4766/4766 [==============================] - 3s 717us/sample - loss: 107.0007 - val_loss: 115.8256\n",
      "Epoch 26/40\n",
      "4766/4766 [==============================] - 3s 727us/sample - loss: 106.7745 - val_loss: 115.3625\n",
      "Epoch 27/40\n",
      "4766/4766 [==============================] - 4s 737us/sample - loss: 106.4131 - val_loss: 115.3967\n",
      "Epoch 28/40\n",
      "4766/4766 [==============================] - 3s 704us/sample - loss: 105.9573 - val_loss: 114.8294\n",
      "Epoch 29/40\n",
      "4766/4766 [==============================] - 4s 749us/sample - loss: 105.7742 - val_loss: 115.6456\n",
      "Epoch 30/40\n",
      "4766/4766 [==============================] - 4s 751us/sample - loss: 105.6205 - val_loss: 114.7676\n",
      "Epoch 31/40\n",
      "4766/4766 [==============================] - 3s 728us/sample - loss: 105.0116 - val_loss: 115.4917\n",
      "Epoch 32/40\n",
      "4766/4766 [==============================] - 4s 755us/sample - loss: 105.1759 - val_loss: 115.0098\n",
      "Epoch 33/40\n",
      "4766/4766 [==============================] - 4s 744us/sample - loss: 104.8138 - val_loss: 117.7764\n",
      "Epoch 34/40\n",
      "4766/4766 [==============================] - 4s 742us/sample - loss: 104.3760 - val_loss: 115.8797\n",
      "Epoch 35/40\n",
      "4766/4766 [==============================] - 3s 731us/sample - loss: 104.1007 - val_loss: 115.3869\n",
      "Epoch 36/40\n",
      "4766/4766 [==============================] - 4s 742us/sample - loss: 103.8709 - val_loss: 116.0735\n",
      "Epoch 37/40\n",
      "4766/4766 [==============================] - 3s 692us/sample - loss: 103.9865 - val_loss: 114.9294\n",
      "Epoch 38/40\n",
      "4766/4766 [==============================] - 3s 684us/sample - loss: 103.4720 - val_loss: 115.4699\n",
      "Epoch 39/40\n",
      "4766/4766 [==============================] - 3s 698us/sample - loss: 103.4276 - val_loss: 115.9809\n",
      "Epoch 40/40\n",
      "4766/4766 [==============================] - 3s 690us/sample - loss: 102.8985 - val_loss: 115.9788\n"
     ]
    }
   ],
   "source": [
    "history = vae.fit(x_train_noisy, x_train, epochs = 40, batch_size = 32, validation_split = validation_split)"
   ]
  },
  {
   "cell_type": "markdown",
   "metadata": {
    "id": "w9cwHmo0L9kL"
   },
   "source": [
    "### Tracking the history of the training stage\n",
    "\n",
    "Now, we can analise the model taking a look at the losses for the **training** and **validations** sets:"
   ]
  },
  {
   "cell_type": "code",
   "execution_count": 20,
   "metadata": {
    "colab": {
     "base_uri": "https://localhost:8080/",
     "height": 34
    },
    "id": "2jHDeAlBwW21",
    "outputId": "970a927e-31ba-47aa-f36b-9f480d4a7480"
   },
   "outputs": [
    {
     "data": {
      "text/plain": [
       "dict_keys(['loss', 'val_loss'])"
      ]
     },
     "execution_count": 20,
     "metadata": {},
     "output_type": "execute_result"
    }
   ],
   "source": [
    "history.history.keys()"
   ]
  },
  {
   "cell_type": "code",
   "execution_count": 21,
   "metadata": {
    "id": "xUjfYnorxFDi"
   },
   "outputs": [],
   "source": [
    "train_loss = history.history['loss']\n",
    "train_val_loss = history.history['val_loss']\n",
    "epochs = range(1, len(train_loss) + 1)"
   ]
  },
  {
   "cell_type": "markdown",
   "metadata": {
    "id": "UfLzzWZSMET9"
   },
   "source": [
    "Visualizing the history of the training:"
   ]
  },
  {
   "cell_type": "code",
   "execution_count": 22,
   "metadata": {
    "colab": {
     "base_uri": "https://localhost:8080/",
     "height": 402
    },
    "id": "dfltbv9BxK1f",
    "outputId": "daee689a-0316-420a-c1a9-3087d258a302"
   },
   "outputs": [
    {
     "data": {
      "text/plain": [
       "Text(0.5, 0, 'Epochs')"
      ]
     },
     "execution_count": 22,
     "metadata": {},
     "output_type": "execute_result"
    },
    {
     "data": {
      "image/png": "[encoded data removed]",
      "text/plain": [
       "<Figure size 640x480 with 1 Axes>"
      ]
     },
     "metadata": {},
     "output_type": "display_data"
    }
   ],
   "source": [
    "plt.figure(dpi = 100)\n",
    "plt.plot(epochs, train_loss, label = 'Loss')\n",
    "plt.plot(epochs, train_val_loss, '.', label = 'Val loss')\n",
    "plt.title('Training and validation metrics')\n",
    "plt.legend()\n",
    "plt.ylabel('Loss')\n",
    "plt.xlabel('Epochs')"
   ]
  },
  {
   "cell_type": "markdown",
   "metadata": {
    "id": "cWNTSsB3MP0u"
   },
   "source": [
    "## 7) Testing the model\n",
    "\n",
    "We can now take a look at the performance of our model by _testing_ it on the _test set_:"
   ]
  },
  {
   "cell_type": "code",
   "execution_count": 31,
   "metadata": {
    "id": "_uKB2CCgxQb9"
   },
   "outputs": [],
   "source": [
    "x_denoised = vae.predict(x_test, batch_size = 32)\n",
    "x_denoised = np.array(x_denoised)"
   ]
  },
  {
   "cell_type": "code",
   "execution_count": 32,
   "metadata": {},
   "outputs": [
    {
     "data": {
      "text/plain": [
       "(1032, 28, 28, 1)"
      ]
     },
     "execution_count": 32,
     "metadata": {},
     "output_type": "execute_result"
    }
   ],
   "source": [
    "x_denoised.shape"
   ]
  },
  {
   "cell_type": "markdown",
   "metadata": {
    "id": "xbB-gxeUMnJx"
   },
   "source": [
    "### Visual results\n",
    "\n",
    "Here, we can compare our visual results looking side by side the noisy, targets and denoised  images."
   ]
  },
  {
   "cell_type": "code",
   "execution_count": 34,
   "metadata": {
    "colab": {
     "base_uri": "https://localhost:8080/",
     "height": 503
    },
    "id": "NEwT4ZpoyB0F",
    "outputId": "79ac8e30-d230-4928-f56f-f3a8e535dd94"
   },
   "outputs": [
    {
     "data": {
      "image/png": "[encoded data removed]",
      "text/plain": [
       "<Figure size 800x200 with 3 Axes>"
      ]
     },
     "metadata": {},
     "output_type": "display_data"
    },
    {
     "data": {
      "image/png": "[encoded data removed]",
      "text/plain": [
       "<Figure size 800x200 with 3 Axes>"
      ]
     },
     "metadata": {},
     "output_type": "display_data"
    },
    {
     "data": {
      "image/png": "[encoded data removed]",
      "text/plain": [
       "<Figure size 800x200 with 3 Axes>"
      ]
     },
     "metadata": {},
     "output_type": "display_data"
    }
   ],
   "source": [
    "n = 3\n",
    "for i in range(n):\n",
    "    fig, axes = plt.subplots(1, 3)\n",
    "    fig.set_size_inches(8, 2)\n",
    "    axes[0].set_title('Noisy image')\n",
    "    im0 = axes[0].imshow(x_test_noisy[i].reshape(dimension, dimension), cmap = 'Reds')\n",
    "    axes[1].set_title('Target image')\n",
    "    im1 = axes[1].imshow(x_test[i].reshape(dimension, dimension), cmap = 'Reds')\n",
    "    axes[2].set_title('Denoised image')\n",
    "    im2 = axes[2].imshow(x_denoised[i, :, :, 0].reshape(dimension, dimension), cmap = 'Reds')"
   ]
  },
  {
   "cell_type": "markdown",
   "metadata": {
    "id": "r4usMdsRyesT"
   },
   "source": [
    "These images are almost perfect and they are similar to the results we found with the **CNNautoencoder**!"
   ]
  },
  {
   "cell_type": "markdown",
   "metadata": {},
   "source": [
    "## References\n",
    "\n",
    "[1] FAN, L. et al. Brief review of image denoising techniques. Visual Computing for Industry, Biomedicine, and Art, v. 2, 2019.\n",
    "\n",
    "[2] Tian, C. et al. Deep Learning on Image Denoising: An overview. arXiv e-prints, p. arXiv:1912.13171, dez. 2019.\n",
    "\n",
    "[3] Chollet, F. [Building Autoencoders in Keras](https://blog.keras.io/building-autoencoders-in-keras.html)\n",
    "\n",
    "[4] de SANTI, N. S. M. Machine learning methods for extracting cosmological information. 2024. doi: [10.11606/T.43.2024.tde-15072024-101341](https://www.teses.usp.br/teses/disponiveis/43/43134/tde-15072024-101341/en.php)."
   ]
  },
  {
   "cell_type": "code",
   "execution_count": null,
   "metadata": {},
   "outputs": [],
   "source": []
  }
 ],
 "metadata": {
  "colab": {
   "collapsed_sections": [],
   "name": "image_denoising.ipynb",
   "provenance": []
  },
  "kernelspec": {
   "display_name": "env_pytorch",
   "language": "python",
   "name": "env_pytorch"
  },
  "language_info": {
   "codemirror_mode": {
    "name": "ipython",
    "version": 3
   },
   "file_extension": ".py",
   "mimetype": "text/x-python",
   "name": "python",
   "nbconvert_exporter": "python",
   "pygments_lexer": "ipython3",
   "version": "3.11.4"
  }
 },
 "nbformat": 4,
 "nbformat_minor": 4
}
